{
  "cells": [
    {
      "cell_type": "markdown",
      "metadata": {
        "id": "Yh9mYnT4ebHj"
      },
      "source": [
        "# Aula 05.07"
      ]
    },
    {
      "cell_type": "markdown",
      "metadata": {
        "id": "MRO-3GW2eit6"
      },
      "source": [
        "Bigramas são combinações de palavras 2 a 2, para conseguir adquirir mais contexto para o processamento de NLP\n",
        "\n",
        "Podem ser usados quaisquer números para o tamanho dos ngramas, estudaremos n=2"
      ]
    },
    {
      "cell_type": "code",
      "execution_count": 7,
      "metadata": {
        "id": "bJN79ufmjiue"
      },
      "outputs": [
        {
          "data": {
            "text/plain": [
              "['Batatinha quando nasce esparrama pelo chão igual batatinha',\n",
              " 'A pior experiência da minha vida',\n",
              " 'Quero meu dinheiro de volta pois é meu e é meu',\n",
              " 'A experiência do dinheiro esparrama minha vida',\n",
              " 'Açaí é a melhor coisa da vida']"
            ]
          },
          "execution_count": 7,
          "metadata": {},
          "output_type": "execute_result"
        }
      ],
      "source": [
        "corpus = [\n",
        "  \"Batatinha quando nasce esparrama pelo chão igual batatinha\",\n",
        "  \"A pior experiência da minha vida\",\n",
        "  \"Quero meu dinheiro de volta pois é meu e é meu\",\n",
        "  \"A experiência do dinheiro esparrama minha vida\",\n",
        "  \"Açaí é a melhor coisa da vida\"\n",
        "]\n",
        "\n",
        "corpus"
      ]
    },
    {
      "cell_type": "markdown",
      "metadata": {
        "id": "pI9ftb5fkmit"
      },
      "source": [
        "## Unigrama"
      ]
    },
    {
      "cell_type": "code",
      "execution_count": 8,
      "metadata": {
        "id": "Z3DXBwn2jkUt"
      },
      "outputs": [
        {
          "data": {
            "text/plain": [
              "{0: {'batatinha': 2,\n",
              "  'quando': 1,\n",
              "  'nasce': 1,\n",
              "  'esparrama': 1,\n",
              "  'pelo': 1,\n",
              "  'chão': 1,\n",
              "  'igual': 1},\n",
              " 1: {'a': 1, 'pior': 1, 'experiência': 1, 'da': 1, 'minha': 1, 'vida': 1},\n",
              " 2: {'quero': 1,\n",
              "  'meu': 3,\n",
              "  'dinheiro': 1,\n",
              "  'de': 1,\n",
              "  'volta': 1,\n",
              "  'pois': 1,\n",
              "  'é': 2,\n",
              "  'e': 1},\n",
              " 3: {'a': 1,\n",
              "  'experiência': 1,\n",
              "  'do': 1,\n",
              "  'dinheiro': 1,\n",
              "  'esparrama': 1,\n",
              "  'minha': 1,\n",
              "  'vida': 1},\n",
              " 4: {'açaí': 1, 'é': 1, 'a': 1, 'melhor': 1, 'coisa': 1, 'da': 1, 'vida': 1}}"
            ]
          },
          "execution_count": 8,
          "metadata": {},
          "output_type": "execute_result"
        }
      ],
      "source": [
        "bow_1 = dict()\n",
        "\n",
        "for i, doc in enumerate(corpus):\n",
        "  bow_1[i] = dict()\n",
        "  for wrd in doc.lower().split():\n",
        "    if wrd in bow_1[i]:\n",
        "      bow_1[i][wrd] += 1\n",
        "    else:\n",
        "      bow_1[i][wrd] = 1\n",
        "\n",
        "bow_1"
      ]
    },
    {
      "cell_type": "markdown",
      "metadata": {
        "id": "rtzWFYzzksLE"
      },
      "source": [
        "## Bigrama"
      ]
    },
    {
      "cell_type": "code",
      "execution_count": 9,
      "metadata": {
        "id": "wlYIZeCikuil"
      },
      "outputs": [
        {
          "data": {
            "text/plain": [
              "{0: {('batatinha', 'quando'): 1,\n",
              "  ('quando', 'nasce'): 1,\n",
              "  ('nasce', 'esparrama'): 1,\n",
              "  ('esparrama', 'pelo'): 1,\n",
              "  ('pelo', 'chão'): 1,\n",
              "  ('chão', 'igual'): 1,\n",
              "  ('igual', 'batatinha'): 1},\n",
              " 1: {('a', 'pior'): 1,\n",
              "  ('pior', 'experiência'): 1,\n",
              "  ('experiência', 'da'): 1,\n",
              "  ('da', 'minha'): 1,\n",
              "  ('minha', 'vida'): 1},\n",
              " 2: {('quero', 'meu'): 1,\n",
              "  ('meu', 'dinheiro'): 1,\n",
              "  ('dinheiro', 'de'): 1,\n",
              "  ('de', 'volta'): 1,\n",
              "  ('volta', 'pois'): 1,\n",
              "  ('pois', 'é'): 1,\n",
              "  ('é', 'meu'): 2,\n",
              "  ('meu', 'e'): 1,\n",
              "  ('e', 'é'): 1},\n",
              " 3: {('a', 'experiência'): 1,\n",
              "  ('experiência', 'do'): 1,\n",
              "  ('do', 'dinheiro'): 1,\n",
              "  ('dinheiro', 'esparrama'): 1,\n",
              "  ('esparrama', 'minha'): 1,\n",
              "  ('minha', 'vida'): 1},\n",
              " 4: {('açaí', 'é'): 1,\n",
              "  ('é', 'a'): 1,\n",
              "  ('a', 'melhor'): 1,\n",
              "  ('melhor', 'coisa'): 1,\n",
              "  ('coisa', 'da'): 1,\n",
              "  ('da', 'vida'): 1}}"
            ]
          },
          "execution_count": 9,
          "metadata": {},
          "output_type": "execute_result"
        }
      ],
      "source": [
        "bow_2 = dict()\n",
        "\n",
        "for i, doc in enumerate(corpus):\n",
        "  bow_2[i] = dict()\n",
        "  doc_split = doc.lower().split()\n",
        "  for j in range(len(doc_split)-1):\n",
        "    bigram = (doc_split[j], doc_split[j+1])\n",
        "    if bigram in bow_2[i]:\n",
        "      bow_2[i][bigram] += 1\n",
        "    else:\n",
        "      bow_2[i][bigram] = 1\n",
        "\n",
        "bow_2"
      ]
    },
    {
      "cell_type": "code",
      "execution_count": 10,
      "metadata": {
        "id": "QZTFJPHRt9Do"
      },
      "outputs": [
        {
          "data": {
            "text/plain": [
              "(39, 34)"
            ]
          },
          "execution_count": 10,
          "metadata": {},
          "output_type": "execute_result"
        }
      ],
      "source": [
        "def flat_dict(bow):\n",
        "  vocab = dict()\n",
        "  size = 0\n",
        "  for sent in bow:\n",
        "    for di in bow[sent]:\n",
        "      value = bow[sent][di]\n",
        "      size += value\n",
        "      if di in vocab:\n",
        "        vocab[di] += value\n",
        "      else:\n",
        "        vocab[di] = value\n",
        "  return vocab, size\n",
        "\n",
        "vocab_1, vocab_1_size = flat_dict(bow_1)\n",
        "vocab_2, vocab_2_size = flat_dict(bow_2)\n",
        "\n",
        "vocab_1_size, vocab_2_size"
      ]
    },
    {
      "cell_type": "markdown",
      "metadata": {},
      "source": [
        "## Chance de determinada frase acontecer"
      ]
    },
    {
      "cell_type": "code",
      "execution_count": 11,
      "metadata": {
        "colab": {
          "base_uri": "https://localhost:8080/",
          "height": 321
        },
        "id": "pzLBZwqIq9h4",
        "outputId": "b6260361-3332-478b-ec9a-faecfc40a1bb"
      },
      "outputs": [
        {
          "data": {
            "text/plain": [
              "(0, 0.05128205128205128, 0.02564102564102564, 0)"
            ]
          },
          "execution_count": 11,
          "metadata": {},
          "output_type": "execute_result"
        }
      ],
      "source": [
        "def p(frase : str) -> float:\n",
        "  frase_split = frase.lower().split()\n",
        "  frase_len = len(frase_split)\n",
        "\n",
        "  if frase_split[0] in vocab_1:\n",
        "    prob = vocab_1[frase_split[0]] / vocab_1_size\n",
        "  else: return 0\n",
        "\n",
        "  for i in range(1, frase_len):\n",
        "    if (frase_split[i-1], frase_split[i]) in vocab_2:\n",
        "      di = vocab_2[(frase_split[i-1], frase_split[i])]\n",
        "    else: return 0\n",
        "\n",
        "    if frase_split[i] in vocab_1:\n",
        "      u = vocab_1[frase_split[i]]\n",
        "    else: return 0\n",
        "    \n",
        "    di\n",
        "    prob *= di / u\n",
        "\n",
        "  return prob\n",
        "\n",
        "p(\"batatinha frita\"), p(\"esparrama\"), p(\"pelo chão\"), p(\"dinheiro de acaí\")\n"
      ]
    }
  ],
  "metadata": {
    "colab": {
      "collapsed_sections": [],
      "name": "Untitled3.ipynb",
      "provenance": []
    },
    "kernelspec": {
      "display_name": "Python 3.9.13 64-bit",
      "language": "python",
      "name": "python3"
    },
    "language_info": {
      "codemirror_mode": {
        "name": "ipython",
        "version": 3
      },
      "file_extension": ".py",
      "mimetype": "text/x-python",
      "name": "python",
      "nbconvert_exporter": "python",
      "pygments_lexer": "ipython3",
      "version": "3.9.13"
    },
    "vscode": {
      "interpreter": {
        "hash": "3c3fdd1ba6fa6149e0a55b9d95e637df8fd62d3a04e8e673bb353b444f545e4d"
      }
    }
  },
  "nbformat": 4,
  "nbformat_minor": 0
}
