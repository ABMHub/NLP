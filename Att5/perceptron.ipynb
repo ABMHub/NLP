{
  "nbformat": 4,
  "nbformat_minor": 0,
  "metadata": {
    "colab": {
      "name": "Untitled4.ipynb",
      "provenance": [],
      "authorship_tag": "ABX9TyPKpHOF2+dPAvzMYdKCxeae",
      "include_colab_link": true
    },
    "kernelspec": {
      "name": "python3",
      "display_name": "Python 3"
    },
    "language_info": {
      "name": "python"
    }
  },
  "cells": [
    {
      "cell_type": "markdown",
      "metadata": {
        "id": "view-in-github",
        "colab_type": "text"
      },
      "source": [
        "<a href=\"https://colab.research.google.com/github/ABMHub/NLP/blob/main/Att5/perceptron.ipynb\" target=\"_parent\"><img src=\"https://colab.research.google.com/assets/colab-badge.svg\" alt=\"Open In Colab\"/></a>"
      ]
    },
    {
      "cell_type": "code",
      "execution_count": 77,
      "metadata": {
        "id": "7iJ3pihd0mNb"
      },
      "outputs": [],
      "source": [
        "import pandas as pd\n",
        "import numpy as np\n",
        "import math"
      ]
    },
    {
      "cell_type": "code",
      "source": [
        "bias = 0\n",
        "\n",
        "x = np.array([0.5, 1.1, 0.1, 0.2, 0.7])\n",
        "pesos = np.array([float(\"-inf\")]*5)\n",
        "net = (pesos * x).sum() + bias"
      ],
      "metadata": {
        "colab": {
          "base_uri": "https://localhost:8080/",
          "height": 200
        },
        "id": "bAa0DyPY1ru2",
        "outputId": "9dbf168c-62f9-4cfa-a648-29683442cecd"
      },
      "execution_count": 79,
      "outputs": [
        {
          "output_type": "error",
          "ename": "ValueError",
          "evalue": "ignored",
          "traceback": [
            "\u001b[0;31m---------------------------------------------------------------------------\u001b[0m",
            "\u001b[0;31mValueError\u001b[0m                                Traceback (most recent call last)",
            "\u001b[0;32m<ipython-input-79-c247be900896>\u001b[0m in \u001b[0;36m<module>\u001b[0;34m()\u001b[0m\n\u001b[1;32m      3\u001b[0m \u001b[0mx\u001b[0m \u001b[0;34m=\u001b[0m \u001b[0mnp\u001b[0m\u001b[0;34m.\u001b[0m\u001b[0marray\u001b[0m\u001b[0;34m(\u001b[0m\u001b[0;34m[\u001b[0m\u001b[0;36m0.5\u001b[0m\u001b[0;34m,\u001b[0m \u001b[0;36m1.1\u001b[0m\u001b[0;34m,\u001b[0m \u001b[0;36m0.1\u001b[0m\u001b[0;34m,\u001b[0m \u001b[0;36m0.2\u001b[0m\u001b[0;34m,\u001b[0m \u001b[0;36m0.7\u001b[0m\u001b[0;34m]\u001b[0m\u001b[0;34m)\u001b[0m\u001b[0;34m\u001b[0m\u001b[0;34m\u001b[0m\u001b[0m\n\u001b[1;32m      4\u001b[0m \u001b[0mpesos\u001b[0m \u001b[0;34m=\u001b[0m \u001b[0mnp\u001b[0m\u001b[0;34m.\u001b[0m\u001b[0marray\u001b[0m\u001b[0;34m(\u001b[0m\u001b[0mnp\u001b[0m\u001b[0;34m.\u001b[0m\u001b[0mrandom\u001b[0m\u001b[0;34m.\u001b[0m\u001b[0mrandn\u001b[0m\u001b[0;34m(\u001b[0m\u001b[0;36m4\u001b[0m\u001b[0;34m)\u001b[0m\u001b[0;34m)\u001b[0m\u001b[0;34m\u001b[0m\u001b[0;34m\u001b[0m\u001b[0m\n\u001b[0;32m----> 5\u001b[0;31m \u001b[0mnet\u001b[0m \u001b[0;34m=\u001b[0m \u001b[0;34m(\u001b[0m\u001b[0mpesos\u001b[0m \u001b[0;34m*\u001b[0m \u001b[0mx\u001b[0m\u001b[0;34m)\u001b[0m\u001b[0;34m.\u001b[0m\u001b[0msum\u001b[0m\u001b[0;34m(\u001b[0m\u001b[0;34m)\u001b[0m \u001b[0;34m+\u001b[0m \u001b[0mbias\u001b[0m\u001b[0;34m\u001b[0m\u001b[0;34m\u001b[0m\u001b[0m\n\u001b[0m",
            "\u001b[0;31mValueError\u001b[0m: operands could not be broadcast together with shapes (4,) (5,) "
          ]
        }
      ]
    },
    {
      "cell_type": "code",
      "source": [
        "def activation_function(x, tipo, t = None):\n",
        "  if tipo == \"degrau\":\n",
        "    if x >= t: return 1\n",
        "    else: return 0 \n",
        "\n",
        "  elif tipo == \"sinal\":\n",
        "    if x >= 0: return 1\n",
        "    else: return -1\n",
        "\n",
        "  elif tipo == \"sigmoid\":\n",
        "    return 1/(1+math.exp(-x))\n",
        "\n",
        "  else: raise ValueError(f\"{tipo} nao existe\")"
      ],
      "metadata": {
        "id": "Y3J8nLOE5Po0"
      },
      "execution_count": 65,
      "outputs": []
    },
    {
      "cell_type": "code",
      "source": [
        "activation_function(net, \"sigmoid\")"
      ],
      "metadata": {
        "colab": {
          "base_uri": "https://localhost:8080/"
        },
        "id": "Zo6p5OLv6YFS",
        "outputId": "553b9843-77fa-48dc-cf48-e8cdec63a80a"
      },
      "execution_count": 69,
      "outputs": [
        {
          "output_type": "execute_result",
          "data": {
            "text/plain": [
              "0.0"
            ]
          },
          "metadata": {},
          "execution_count": 69
        }
      ]
    },
    {
      "cell_type": "code",
      "source": [
        "\n",
        "\n",
        "and_X = np.array([\n",
        " [0,0],\n",
        " [0,1],\n",
        " [1,0],\n",
        " [1,1]\n",
        "])\n",
        "and_y = np.array([0,0,0,1])"
      ],
      "metadata": {
        "id": "cNeS6A9m8sOP"
      },
      "execution_count": 105,
      "outputs": []
    },
    {
      "cell_type": "code",
      "source": [
        "net = 0\n",
        "flag = False\n",
        "n_tentativas = 0\n",
        "while flag is False:\n",
        "  n_tentativas += 1\n",
        "  pesos = np.array(np.random.randn(2))\n",
        "  b = []\n",
        "  for a in and_X:\n",
        "    net = (a*pesos).sum()\n",
        "    b.append(activation_function(net, 'degrau', 6))\n",
        "    # print(f\"{a}: {activation_function(net, 'degrau', 2)}\")\n",
        "  flag = b == [0,0,0,1]\n",
        "pesos, n_tentativas"
      ],
      "metadata": {
        "colab": {
          "base_uri": "https://localhost:8080/"
        },
        "id": "uRN9b0ox9awj",
        "outputId": "d2aacae6-b6fb-4337-e4a8-0381b717addb"
      },
      "execution_count": 227,
      "outputs": [
        {
          "output_type": "execute_result",
          "data": {
            "text/plain": [
              "(array([4.33620439, 2.03132391]), 77024)"
            ]
          },
          "metadata": {},
          "execution_count": 227
        }
      ]
    }
  ]
}