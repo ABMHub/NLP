{
  "nbformat": 4,
  "nbformat_minor": 0,
  "metadata": {
    "colab": {
      "name": "Untitled4.ipynb",
      "provenance": [],
      "authorship_tag": "ABX9TyO5FqqAOeNf87J6QZKtmdPe",
      "include_colab_link": true
    },
    "kernelspec": {
      "name": "python3",
      "display_name": "Python 3"
    },
    "language_info": {
      "name": "python"
    }
  },
  "cells": [
    {
      "cell_type": "markdown",
      "metadata": {
        "id": "view-in-github",
        "colab_type": "text"
      },
      "source": [
        "<a href=\"https://colab.research.google.com/github/ABMHub/NLP/blob/main/Att5/perceptron.ipynb\" target=\"_parent\"><img src=\"https://colab.research.google.com/assets/colab-badge.svg\" alt=\"Open In Colab\"/></a>"
      ]
    },
    {
      "cell_type": "code",
      "execution_count": 49,
      "metadata": {
        "id": "7iJ3pihd0mNb"
      },
      "outputs": [],
      "source": [
        "import pandas as pd\n",
        "import numpy as np\n",
        "import math"
      ]
    },
    {
      "cell_type": "code",
      "source": [
        "bias = 0\n",
        "\n",
        "x = np.array([0.5, 1.1, 0.1, 0.2, 0.7])\n",
        "pesos = np.array([float(\"-inf\")]*5)\n",
        "net = (pesos * x).sum() + bias"
      ],
      "metadata": {
        "id": "bAa0DyPY1ru2"
      },
      "execution_count": 50,
      "outputs": []
    },
    {
      "cell_type": "code",
      "source": [
        "def activation_function(x, tipo, t = None):\n",
        "  if tipo == \"degrau\":\n",
        "    if x >= t: return 1\n",
        "    else: return 0 \n",
        "\n",
        "  elif tipo == \"sinal\":\n",
        "    if x >= 0: return 1\n",
        "    else: return -1\n",
        "\n",
        "  elif tipo == \"sigmoid\":\n",
        "    return 1/(1+math.exp(-x))\n",
        "\n",
        "  elif tipo == \"relu\":\n",
        "    if x < 0: return 0\n",
        "    else: return x\n",
        "\n",
        "  else: raise ValueError(f\"{tipo} nao existe\")"
      ],
      "metadata": {
        "id": "Y3J8nLOE5Po0"
      },
      "execution_count": 51,
      "outputs": []
    },
    {
      "cell_type": "code",
      "source": [
        "def compute_neuron(pesos, input):\n",
        "  transf = (input*pesos).sum()\n",
        "  return activation_function(transf, \"degrau\", 4)"
      ],
      "metadata": {
        "id": "PAcKbkRG0jAq"
      },
      "execution_count": 52,
      "outputs": []
    },
    {
      "cell_type": "code",
      "source": [
        "activation_function(net, \"sigmoid\")"
      ],
      "metadata": {
        "colab": {
          "base_uri": "https://localhost:8080/"
        },
        "id": "Zo6p5OLv6YFS",
        "outputId": "bed5e6a7-7ee9-46c0-deb6-33ee84d125a6"
      },
      "execution_count": 53,
      "outputs": [
        {
          "output_type": "execute_result",
          "data": {
            "text/plain": [
              "0.0"
            ]
          },
          "metadata": {},
          "execution_count": 53
        }
      ]
    },
    {
      "cell_type": "code",
      "source": [
        "\n",
        "\n",
        "and_X = np.array([\n",
        " [0,0],\n",
        " [0,1],\n",
        " [1,0],\n",
        " [1,1]\n",
        "])\n",
        "and_y = np.array([0,1,1,0])"
      ],
      "metadata": {
        "id": "cNeS6A9m8sOP"
      },
      "execution_count": 54,
      "outputs": []
    },
    {
      "cell_type": "markdown",
      "source": [
        "Tentativa de fazer o XOR com perceptron simples com aprendizado"
      ],
      "metadata": {
        "id": "tiur0g6Sj9hc"
      }
    },
    {
      "cell_type": "code",
      "source": [
        "learning_rate = 0.1\n",
        "pesos = np.random.randn(2)\n",
        "for k in range(10**2):\n",
        "  loss = 0\n",
        "  for i, and_elem in enumerate(and_X):\n",
        "    neuron_output = compute_neuron(pesos, and_elem)\n",
        "    erro = ((and_y[i] - neuron_output))\n",
        "    loss += erro\n",
        "    # print(f\"loss at step {k} is {loss}\")\n",
        "    if neuron_output != and_y[i]:\n",
        "      for j in range(len(and_elem)):\n",
        "        delta_w = learning_rate * and_X[i][j] * loss\n",
        "        pesos[j] += delta_w\n",
        "    # print(loss)\n",
        "  \n",
        "print(pesos)\n",
        "[compute_neuron(pesos, inp) for inp in and_X]"
      ],
      "metadata": {
        "colab": {
          "base_uri": "https://localhost:8080/"
        },
        "id": "uRN9b0ox9awj",
        "outputId": "8c4b971c-0a21-44b2-dfee-2dc534c66a0d"
      },
      "execution_count": 55,
      "outputs": [
        {
          "output_type": "stream",
          "name": "stdout",
          "text": [
            "[4.03754    3.95826806]\n"
          ]
        },
        {
          "output_type": "execute_result",
          "data": {
            "text/plain": [
              "[0, 0, 1, 1]"
            ]
          },
          "metadata": {},
          "execution_count": 55
        }
      ]
    },
    {
      "cell_type": "markdown",
      "source": [
        "XOR com perceptron de uma camada oculta com aprendizado aleatório"
      ],
      "metadata": {
        "id": "gu-fmbOFkKdB"
      }
    },
    {
      "cell_type": "code",
      "source": [
        "def rede(pesos, dados):\n",
        "    n1 = activation_function(dados[0]*pesos[0] + dados[1]*pesos[2], \"sigmoid\")\n",
        "    n2 = activation_function(dados[0]*pesos[1] + dados[1]*pesos[3], \"sigmoid\")\n",
        "    n3 = activation_function(n1*pesos[4] + n2*pesos[5], \"degrau\", 0.5)\n",
        "    return n1, n2, n3"
      ],
      "metadata": {
        "id": "0bPv8LvustFT"
      },
      "execution_count": 62,
      "outputs": []
    },
    {
      "cell_type": "code",
      "source": [
        "import time\n",
        "import random\n",
        "\n",
        "tentativas = 0\n",
        "certo = False\n",
        "t = time.time()\n",
        "while certo is False:\n",
        "  pesos = np.random.randn(6)\n",
        "  tentativas += 1\n",
        "  y_pred = []\n",
        "  for x1, x2 in and_X:\n",
        "    n = rede(pesos, (x1, x2))\n",
        "    y_pred.append(n[-1])\n",
        "\n",
        "  certo = np.array_equal(y_pred, and_y)\n",
        "  certo = True # comente para executar (demora cerca de 30seg)\n",
        "\n",
        "for x1, x2 in and_X:\n",
        "  print(rede(pesos, (x1, x2))[-1])\n",
        "\n",
        "print(f\"Tentativas = {tentativas}\")\n",
        "print(f\"Pesos = {pesos}\")\n",
        "print(f\"Tempo = {time.time() - t}\")\n",
        "  # print(x1, x2, n3)"
      ],
      "metadata": {
        "id": "NxviX0nskNtI",
        "outputId": "eb9ec2d3-6b89-4b1e-f761-4b8636b7cc98",
        "colab": {
          "base_uri": "https://localhost:8080/"
        }
      },
      "execution_count": 64,
      "outputs": [
        {
          "output_type": "stream",
          "name": "stdout",
          "text": [
            "0\n",
            "0\n",
            "0\n",
            "0\n",
            "Tentativas = 1\n",
            "Pesos = [ 0.53944245 -1.09476233  0.19976159 -0.4939012  -0.23630959  0.16377283]\n",
            "Tempo = 0.005879402160644531\n"
          ]
        }
      ]
    }
  ]
}