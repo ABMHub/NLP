{
  "cells": [
    {
      "cell_type": "markdown",
      "metadata": {
        "colab_type": "text",
        "id": "view-in-github"
      },
      "source": [
        "<a href=\"https://colab.research.google.com/github/ABMHub/NLP/blob/main/Att5/perceptron.ipynb\" target=\"_parent\"><img src=\"https://colab.research.google.com/assets/colab-badge.svg\" alt=\"Open In Colab\"/></a>"
      ]
    },
    {
      "cell_type": "code",
      "execution_count": 1,
      "metadata": {
        "id": "7iJ3pihd0mNb"
      },
      "outputs": [],
      "source": [
        "import pandas as pd\n",
        "import numpy as np\n",
        "import math"
      ]
    },
    {
      "cell_type": "code",
      "execution_count": 2,
      "metadata": {
        "id": "bAa0DyPY1ru2"
      },
      "outputs": [],
      "source": [
        "bias = 0\n",
        "\n",
        "x = np.array([0.5, 1.1, 0.1, 0.2, 0.7])\n",
        "pesos = np.array([float(\"-inf\")]*5)\n",
        "net = (pesos * x).sum() + bias"
      ]
    },
    {
      "cell_type": "code",
      "execution_count": 3,
      "metadata": {
        "id": "Y3J8nLOE5Po0"
      },
      "outputs": [],
      "source": [
        "def activation_function(x, tipo, t = None):\n",
        "  if tipo == \"degrau\":\n",
        "    if x >= t: return 1\n",
        "    else: return 0 \n",
        "\n",
        "  elif tipo == \"sinal\":\n",
        "    if x >= 0: return 1\n",
        "    else: return -1\n",
        "\n",
        "  elif tipo == \"sigmoid\":\n",
        "    return 1/(1+math.exp(-x))\n",
        "\n",
        "  elif tipo == \"relu\":\n",
        "    if x < 0: return 0\n",
        "    else: return x\n",
        "\n",
        "  else: raise ValueError(f\"{tipo} nao existe\")"
      ]
    },
    {
      "cell_type": "code",
      "execution_count": 4,
      "metadata": {
        "id": "PAcKbkRG0jAq"
      },
      "outputs": [],
      "source": [
        "def compute_neuron(pesos, input):\n",
        "  transf = (input*pesos).sum()\n",
        "  return activation_function(transf, \"degrau\", 4)"
      ]
    },
    {
      "cell_type": "code",
      "execution_count": 5,
      "metadata": {
        "colab": {
          "base_uri": "https://localhost:8080/"
        },
        "id": "Zo6p5OLv6YFS",
        "outputId": "bed5e6a7-7ee9-46c0-deb6-33ee84d125a6"
      },
      "outputs": [
        {
          "data": {
            "text/plain": [
              "0.0"
            ]
          },
          "execution_count": 5,
          "metadata": {},
          "output_type": "execute_result"
        }
      ],
      "source": [
        "activation_function(net, \"sigmoid\")"
      ]
    },
    {
      "cell_type": "code",
      "execution_count": 6,
      "metadata": {
        "id": "cNeS6A9m8sOP"
      },
      "outputs": [],
      "source": [
        "\n",
        "\n",
        "and_X = np.array([\n",
        " [0,0],\n",
        " [0,1],\n",
        " [1,0],\n",
        " [1,1]\n",
        "])\n",
        "and_y = np.array([0,1,1,0])"
      ]
    },
    {
      "cell_type": "markdown",
      "metadata": {
        "id": "tiur0g6Sj9hc"
      },
      "source": [
        "Tentativa de fazer o XOR com perceptron simples com aprendizado"
      ]
    },
    {
      "cell_type": "code",
      "execution_count": 7,
      "metadata": {
        "colab": {
          "base_uri": "https://localhost:8080/"
        },
        "id": "uRN9b0ox9awj",
        "outputId": "8c4b971c-0a21-44b2-dfee-2dc534c66a0d"
      },
      "outputs": [
        {
          "name": "stdout",
          "output_type": "stream",
          "text": [
            "[4.00870669 4.03248822]\n"
          ]
        },
        {
          "data": {
            "text/plain": [
              "[0, 1, 1, 1]"
            ]
          },
          "execution_count": 7,
          "metadata": {},
          "output_type": "execute_result"
        }
      ],
      "source": [
        "learning_rate = 0.1\n",
        "pesos = np.random.randn(2)\n",
        "for k in range(10**2):\n",
        "  loss = 0\n",
        "  for i, and_elem in enumerate(and_X):\n",
        "    neuron_output = compute_neuron(pesos, and_elem)\n",
        "    erro = ((and_y[i] - neuron_output))\n",
        "    loss += erro\n",
        "    # print(f\"loss at step {k} is {loss}\")\n",
        "    if neuron_output != and_y[i]:\n",
        "      for j in range(len(and_elem)):\n",
        "        delta_w = learning_rate * and_X[i][j] * loss\n",
        "        pesos[j] += delta_w\n",
        "    # print(loss)\n",
        "  \n",
        "print(pesos)\n",
        "[compute_neuron(pesos, inp) for inp in and_X]"
      ]
    },
    {
      "cell_type": "markdown",
      "metadata": {
        "id": "gu-fmbOFkKdB"
      },
      "source": [
        "XOR com perceptron de uma camada oculta com aprendizado aleatório"
      ]
    },
    {
      "cell_type": "code",
      "execution_count": 8,
      "metadata": {
        "id": "0bPv8LvustFT"
      },
      "outputs": [],
      "source": [
        "def rede(pesos, dados):\n",
        "    n1 = activation_function(dados[0]*pesos[0] + dados[1]*pesos[2], \"sigmoid\")\n",
        "    n2 = activation_function(dados[0]*pesos[1] + dados[1]*pesos[3], \"sigmoid\")\n",
        "    n3 = activation_function(n1*pesos[4] + n2*pesos[5], \"degrau\", 0.5)\n",
        "    return n1, n2, n3"
      ]
    },
    {
      "cell_type": "code",
      "execution_count": 10,
      "metadata": {
        "colab": {
          "base_uri": "https://localhost:8080/"
        },
        "id": "NxviX0nskNtI",
        "outputId": "eb9ec2d3-6b89-4b1e-f761-4b8636b7cc98"
      },
      "outputs": [
        {
          "name": "stdout",
          "output_type": "stream",
          "text": [
            "0\n",
            "1\n",
            "1\n",
            "0\n",
            "Tentativas = 439430\n",
            "Pesos = [ 1.25769512  2.62193336 -0.34837571 -0.89795596  1.97975747 -1.08350568]\n",
            "Tempo = 12.26404857635498\n"
          ]
        }
      ],
      "source": [
        "import time\n",
        "import random\n",
        "\n",
        "tentativas = 0\n",
        "certo = False\n",
        "t = time.time()\n",
        "while certo is False:\n",
        "  pesos = np.random.randn(6)\n",
        "  tentativas += 1\n",
        "  y_pred = []\n",
        "  for x1, x2 in and_X:\n",
        "    n = rede(pesos, (x1, x2))\n",
        "    y_pred.append(n[-1])\n",
        "\n",
        "  certo = np.array_equal(y_pred, and_y)\n",
        "  certo = True # comente para executar (demora cerca de 30seg)\n",
        "\n",
        "for x1, x2 in and_X:\n",
        "  print(rede(pesos, (x1, x2))[-1])\n",
        "\n",
        "print(f\"Tentativas = {tentativas}\")\n",
        "print(f\"Pesos = {pesos}\")\n",
        "print(f\"Tempo = {time.time() - t}\")\n",
        "  # print(x1, x2, n3)"
      ]
    },
    {
      "cell_type": "markdown",
      "metadata": {},
      "source": [
        "Aprendizado com backpropagation"
      ]
    },
    {
      "cell_type": "code",
      "execution_count": 17,
      "metadata": {},
      "outputs": [
        {
          "name": "stdout",
          "output_type": "stream",
          "text": [
            "[ 1.48835321  0.16703835  0.24217263 -1.09010428  0.81433995  0.5110813 ]\n",
            "[  1.48835321   0.16703835   0.24217263  -1.09010428 114.04257196\n",
            "  19.60272517]\n",
            "1\n",
            "1\n",
            "1\n",
            "1\n"
          ]
        }
      ],
      "source": [
        "def erro_output(pred_y, expect_y):\n",
        "  return pred_y * (1 - pred_y) * (expect_y - pred_y)\n",
        "\n",
        "learning_rate = 0.001\n",
        "pesos = np.random.randn(6)\n",
        "print(pesos)\n",
        "\n",
        "\n",
        "for j in range(10000):\n",
        "  for i in range(len(and_X)):\n",
        "    n1, n2, n3 = rede(pesos, and_X[i])\n",
        "    erro_ultima_camada = erro_output(n3, and_y[i])\n",
        "\n",
        "    erro_n1 = n1 * (1 - n1) * (pesos[4])\n",
        "    erro_n2 = n2 * (1 - n2) * (pesos[5])\n",
        "\n",
        "    delta_p4 = learning_rate * erro_n1 * n1\n",
        "    delta_p5 = learning_rate * erro_n2 * n2\n",
        "\n",
        "    pesos[4] += delta_p4\n",
        "    pesos[5] += delta_p5\n",
        "\n",
        "print(pesos)\n",
        "for x1, x2 in and_X:\n",
        "  print(rede(pesos, (x1, x2))[-1])"
      ]
    }
  ],
  "metadata": {
    "colab": {
      "authorship_tag": "ABX9TyO5FqqAOeNf87J6QZKtmdPe",
      "include_colab_link": true,
      "name": "Untitled4.ipynb",
      "provenance": []
    },
    "kernelspec": {
      "display_name": "Python 3.9.13 64-bit",
      "language": "python",
      "name": "python3"
    },
    "language_info": {
      "codemirror_mode": {
        "name": "ipython",
        "version": 3
      },
      "file_extension": ".py",
      "mimetype": "text/x-python",
      "name": "python",
      "nbconvert_exporter": "python",
      "pygments_lexer": "ipython3",
      "version": "3.9.13"
    },
    "vscode": {
      "interpreter": {
        "hash": "3c3fdd1ba6fa6149e0a55b9d95e637df8fd62d3a04e8e673bb353b444f545e4d"
      }
    }
  },
  "nbformat": 4,
  "nbformat_minor": 0
}
