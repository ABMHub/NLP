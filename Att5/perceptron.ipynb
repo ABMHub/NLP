{
  "nbformat": 4,
  "nbformat_minor": 0,
  "metadata": {
    "colab": {
      "name": "Untitled4.ipynb",
      "provenance": [],
      "authorship_tag": "ABX9TyMnswkr1xDAlJPKb9wXcUvX",
      "include_colab_link": true
    },
    "kernelspec": {
      "name": "python3",
      "display_name": "Python 3"
    },
    "language_info": {
      "name": "python"
    }
  },
  "cells": [
    {
      "cell_type": "markdown",
      "metadata": {
        "id": "view-in-github",
        "colab_type": "text"
      },
      "source": [
        "<a href=\"https://colab.research.google.com/github/ABMHub/NLP/blob/main/Att5/perceptron.ipynb\" target=\"_parent\"><img src=\"https://colab.research.google.com/assets/colab-badge.svg\" alt=\"Open In Colab\"/></a>"
      ]
    },
    {
      "cell_type": "code",
      "execution_count": 63,
      "metadata": {
        "id": "7iJ3pihd0mNb"
      },
      "outputs": [],
      "source": [
        "import pandas as pd\n",
        "import numpy as np\n",
        "import math"
      ]
    },
    {
      "cell_type": "code",
      "source": [
        "bias = 0\n",
        "\n",
        "x = np.array([0.5, 1.1, 0.1, 0.2, 0.7])\n",
        "pesos = np.array([float(\"-inf\")]*5)\n",
        "net = (pesos * x).sum() + bias"
      ],
      "metadata": {
        "id": "bAa0DyPY1ru2"
      },
      "execution_count": 64,
      "outputs": []
    },
    {
      "cell_type": "code",
      "source": [
        "def activation_function(x, tipo, t = None):\n",
        "  if tipo == \"degrau\":\n",
        "    if x >= t: return 1\n",
        "    else: return 0 \n",
        "\n",
        "  elif tipo == \"sinal\":\n",
        "    if x >= 0: return 1\n",
        "    else: return -1\n",
        "\n",
        "  elif tipo == \"sigmoid\":\n",
        "    return 1/(1+math.exp(-x))\n",
        "\n",
        "  elif tipo == \"relu\":\n",
        "    if x < 0: return 0\n",
        "    else: return x\n",
        "\n",
        "  else: raise ValueError(f\"{tipo} nao existe\")"
      ],
      "metadata": {
        "id": "Y3J8nLOE5Po0"
      },
      "execution_count": 65,
      "outputs": []
    },
    {
      "cell_type": "code",
      "source": [
        "def compute_neuron(pesos, input):\n",
        "  transf = (input*pesos).sum()\n",
        "  return activation_function(transf, \"degrau\", 4)"
      ],
      "metadata": {
        "id": "PAcKbkRG0jAq"
      },
      "execution_count": 191,
      "outputs": []
    },
    {
      "cell_type": "code",
      "source": [
        "activation_function(net, \"sigmoid\")"
      ],
      "metadata": {
        "colab": {
          "base_uri": "https://localhost:8080/"
        },
        "id": "Zo6p5OLv6YFS",
        "outputId": "6bca01ce-456b-4796-b689-0f2d4c5391b7"
      },
      "execution_count": 67,
      "outputs": [
        {
          "output_type": "execute_result",
          "data": {
            "text/plain": [
              "0.0"
            ]
          },
          "metadata": {},
          "execution_count": 67
        }
      ]
    },
    {
      "cell_type": "code",
      "source": [
        "\n",
        "\n",
        "and_X = np.array([\n",
        " [0,0],\n",
        " [0,1],\n",
        " [1,0],\n",
        " [1,1]\n",
        "])\n",
        "and_y = np.array([0,1,1,0])"
      ],
      "metadata": {
        "id": "cNeS6A9m8sOP"
      },
      "execution_count": 182,
      "outputs": []
    },
    {
      "cell_type": "code",
      "source": [
        "learning_rate = 0.1\n",
        "pesos = np.random.randn(2)\n",
        "for k in range(10**5):\n",
        "  loss = 0\n",
        "  for i, and_elem in enumerate(and_X):\n",
        "    neuron_output = compute_neuron(pesos, and_elem)\n",
        "    erro = ((and_y[i] - neuron_output))\n",
        "    loss += erro\n",
        "    # print(f\"loss at step {k} is {loss}\")\n",
        "    if neuron_output != and_y[i]:\n",
        "      for j in range(len(and_elem)):\n",
        "        delta_w = learning_rate * and_X[i][j] * loss\n",
        "        pesos[j] += delta_w\n",
        "    # print(loss)\n",
        "  \n",
        "print(pesos)\n",
        "[compute_neuron(pesos, inp) for inp in and_X]"
      ],
      "metadata": {
        "colab": {
          "base_uri": "https://localhost:8080/"
        },
        "id": "uRN9b0ox9awj",
        "outputId": "83c32808-f8d0-4e2a-b138-d544ae1b0780"
      },
      "execution_count": 192,
      "outputs": [
        {
          "output_type": "stream",
          "name": "stdout",
          "text": [
            "[4.08878044 4.03115411]\n"
          ]
        },
        {
          "output_type": "execute_result",
          "data": {
            "text/plain": [
              "[0, 1, 1, 1]"
            ]
          },
          "metadata": {},
          "execution_count": 192
        }
      ]
    }
  ]
}