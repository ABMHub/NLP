{
  "cells": [
    {
      "cell_type": "markdown",
      "metadata": {
        "id": "view-in-github",
        "colab_type": "text"
      },
      "source": [
        "<a href=\"https://colab.research.google.com/github/ABMHub/NLP/blob/main/T2/preprocess2.ipynb\" target=\"_parent\"><img src=\"https://colab.research.google.com/assets/colab-badge.svg\" alt=\"Open In Colab\"/></a>"
      ]
    },
    {
      "cell_type": "markdown",
      "metadata": {
        "id": "6Z3raqmTaJ3h"
      },
      "source": [
        "# Inicialização"
      ]
    },
    {
      "cell_type": "code",
      "execution_count": 107,
      "metadata": {
        "colab": {
          "base_uri": "https://localhost:8080/"
        },
        "id": "OUq4cEL-o-Ue",
        "outputId": "a2ab4235-b2f7-4e3c-ead0-4c0b26e8c02e"
      },
      "outputs": [
        {
          "output_type": "stream",
          "name": "stderr",
          "text": [
            "[nltk_data] Downloading package stopwords to /root/nltk_data...\n",
            "[nltk_data]   Package stopwords is already up-to-date!\n"
          ]
        },
        {
          "output_type": "execute_result",
          "data": {
            "text/plain": [
              "True"
            ]
          },
          "metadata": {},
          "execution_count": 107
        }
      ],
      "source": [
        "import pandas as pd\n",
        "import numpy as np\n",
        "import seaborn as sns\n",
        "import re\n",
        "import nltk\n",
        "from nltk.stem.porter import *\n",
        "from typing import List\n",
        "import matplotlib.pyplot as plt\n",
        "\n",
        "nltk.download(\"stopwords\")"
      ]
    },
    {
      "cell_type": "markdown",
      "source": [
        "# Aula Feature Engineering"
      ],
      "metadata": {
        "id": "_iHCWdZQc86a"
      }
    },
    {
      "cell_type": "code",
      "source": [
        "corpus = [\n",
        "          \"Batatinha quando nasce esparrama pelo chão\",\n",
        "          \"A pior experiência da minha vida\",\n",
        "          \"Quero meu dinheiro de volta\",\n",
        "          \"A experiência do dinheiro esparrama minha vida\",\n",
        "          \"Açaí é a melhor coisa da vida\"\n",
        "]\n",
        "\n",
        "corpus"
      ],
      "metadata": {
        "colab": {
          "base_uri": "https://localhost:8080/"
        },
        "id": "zKt0Y5BYdEGb",
        "outputId": "84ff1a09-f9f7-4970-e91d-92217f07e6bd"
      },
      "execution_count": 108,
      "outputs": [
        {
          "output_type": "execute_result",
          "data": {
            "text/plain": [
              "['Batatinha quando nasce esparrama pelo chão',\n",
              " 'A pior experiência da minha vida',\n",
              " 'Quero meu dinheiro de volta',\n",
              " 'A experiência do dinheiro esparrama minha vida',\n",
              " 'Açaí é a melhor coisa da vida']"
            ]
          },
          "metadata": {},
          "execution_count": 108
        }
      ]
    },
    {
      "cell_type": "code",
      "source": [
        "frasezona = \" \".join(corpus).lower()\n",
        "frasezona"
      ],
      "metadata": {
        "colab": {
          "base_uri": "https://localhost:8080/",
          "height": 35
        },
        "id": "CYBN7a01dg0a",
        "outputId": "3e49309a-6c49-474d-f7ab-24c22136064e"
      },
      "execution_count": 109,
      "outputs": [
        {
          "output_type": "execute_result",
          "data": {
            "text/plain": [
              "'batatinha quando nasce esparrama pelo chão a pior experiência da minha vida quero meu dinheiro de volta a experiência do dinheiro esparrama minha vida açaí é a melhor coisa da vida'"
            ],
            "application/vnd.google.colaboratory.intrinsic+json": {
              "type": "string"
            }
          },
          "metadata": {},
          "execution_count": 109
        }
      ]
    },
    {
      "cell_type": "code",
      "source": [
        "tokens = frasezona.split()\n",
        "tokens"
      ],
      "metadata": {
        "colab": {
          "base_uri": "https://localhost:8080/"
        },
        "id": "kc7-QDm0dyKr",
        "outputId": "5673e9e9-a01f-4758-b7c5-2c700f64e31a"
      },
      "execution_count": 110,
      "outputs": [
        {
          "output_type": "execute_result",
          "data": {
            "text/plain": [
              "['batatinha',\n",
              " 'quando',\n",
              " 'nasce',\n",
              " 'esparrama',\n",
              " 'pelo',\n",
              " 'chão',\n",
              " 'a',\n",
              " 'pior',\n",
              " 'experiência',\n",
              " 'da',\n",
              " 'minha',\n",
              " 'vida',\n",
              " 'quero',\n",
              " 'meu',\n",
              " 'dinheiro',\n",
              " 'de',\n",
              " 'volta',\n",
              " 'a',\n",
              " 'experiência',\n",
              " 'do',\n",
              " 'dinheiro',\n",
              " 'esparrama',\n",
              " 'minha',\n",
              " 'vida',\n",
              " 'açaí',\n",
              " 'é',\n",
              " 'a',\n",
              " 'melhor',\n",
              " 'coisa',\n",
              " 'da',\n",
              " 'vida']"
            ]
          },
          "metadata": {},
          "execution_count": 110
        }
      ]
    },
    {
      "cell_type": "code",
      "source": [
        "vocab = pd.Series(list(set(tokens)))\n",
        "vocab.sort_values()"
      ],
      "metadata": {
        "colab": {
          "base_uri": "https://localhost:8080/"
        },
        "id": "yf6eICzjd3kK",
        "outputId": "50440346-5de9-43c9-d4ca-5f686a631045"
      },
      "execution_count": 111,
      "outputs": [
        {
          "output_type": "execute_result",
          "data": {
            "text/plain": [
              "9               a\n",
              "4            açaí\n",
              "15      batatinha\n",
              "17           chão\n",
              "19          coisa\n",
              "3              da\n",
              "18             de\n",
              "8        dinheiro\n",
              "12             do\n",
              "10      esparrama\n",
              "11    experiência\n",
              "7          melhor\n",
              "21            meu\n",
              "1           minha\n",
              "5           nasce\n",
              "20           pelo\n",
              "6            pior\n",
              "14         quando\n",
              "16          quero\n",
              "2            vida\n",
              "0           volta\n",
              "13              é\n",
              "dtype: object"
            ]
          },
          "metadata": {},
          "execution_count": 111
        }
      ]
    },
    {
      "cell_type": "code",
      "source": [
        "bow = dict()\n",
        "for i in range(len(corpus)):\n",
        "  bow[i] = corpus[i].lower().split()\n",
        "\n",
        "bow"
      ],
      "metadata": {
        "colab": {
          "base_uri": "https://localhost:8080/"
        },
        "id": "PA8vZqCkfguh",
        "outputId": "331af3e9-d165-41d1-de50-ffd251f10889"
      },
      "execution_count": 112,
      "outputs": [
        {
          "output_type": "execute_result",
          "data": {
            "text/plain": [
              "{0: ['batatinha', 'quando', 'nasce', 'esparrama', 'pelo', 'chão'],\n",
              " 1: ['a', 'pior', 'experiência', 'da', 'minha', 'vida'],\n",
              " 2: ['quero', 'meu', 'dinheiro', 'de', 'volta'],\n",
              " 3: ['a', 'experiência', 'do', 'dinheiro', 'esparrama', 'minha', 'vida'],\n",
              " 4: ['açaí', 'é', 'a', 'melhor', 'coisa', 'da', 'vida']}"
            ]
          },
          "metadata": {},
          "execution_count": 112
        }
      ]
    },
    {
      "cell_type": "markdown",
      "source": [
        "Bag of Words - Binário\n",
        "0 caso não esteja no texto, 1 caso esteja"
      ],
      "metadata": {
        "id": "WSGaDYQFrmHf"
      }
    },
    {
      "cell_type": "code",
      "source": [
        "bow_binario = dict()\n",
        "\n",
        "for i, sent in enumerate(corpus):\n",
        "  bow_binario[i] = dict()\n",
        "  for wrd in sent.lower().split():\n",
        "    bow_binario[i][wrd] = 1\n",
        "\n",
        "df_bin = pd.DataFrame().from_records(bow_binario).T.fillna(0)\n",
        "df_bin = df_bin.astype(int)\n",
        "df_bin\n",
        "# plt.figure(figsize=(21, 4))\n",
        "# sns.heatmap(df_bin)\n"
      ],
      "metadata": {
        "colab": {
          "base_uri": "https://localhost:8080/",
          "height": 236
        },
        "id": "e9KlZbc6ipXA",
        "outputId": "cd7c8a27-6b73-4627-9f5a-5b80191daaab"
      },
      "execution_count": 113,
      "outputs": [
        {
          "output_type": "execute_result",
          "data": {
            "text/plain": [
              "   batatinha  quando  nasce  esparrama  pelo  chão  a  pior  experiência  da  \\\n",
              "0          1       1      1          1     1     1  0     0            0   0   \n",
              "1          0       0      0          0     0     0  1     1            1   1   \n",
              "2          0       0      0          0     0     0  0     0            0   0   \n",
              "3          0       0      0          1     0     0  1     0            1   0   \n",
              "4          0       0      0          0     0     0  1     0            0   1   \n",
              "\n",
              "   ...  quero  meu  dinheiro  de  volta  do  açaí  é  melhor  coisa  \n",
              "0  ...      0    0         0   0      0   0     0  0       0      0  \n",
              "1  ...      0    0         0   0      0   0     0  0       0      0  \n",
              "2  ...      1    1         1   1      1   0     0  0       0      0  \n",
              "3  ...      0    0         1   0      0   1     0  0       0      0  \n",
              "4  ...      0    0         0   0      0   0     1  1       1      1  \n",
              "\n",
              "[5 rows x 22 columns]"
            ],
            "text/html": [
              "\n",
              "  <div id=\"df-f862750e-e0f3-4d32-9acf-9bfd0d3ba211\">\n",
              "    <div class=\"colab-df-container\">\n",
              "      <div>\n",
              "<style scoped>\n",
              "    .dataframe tbody tr th:only-of-type {\n",
              "        vertical-align: middle;\n",
              "    }\n",
              "\n",
              "    .dataframe tbody tr th {\n",
              "        vertical-align: top;\n",
              "    }\n",
              "\n",
              "    .dataframe thead th {\n",
              "        text-align: right;\n",
              "    }\n",
              "</style>\n",
              "<table border=\"1\" class=\"dataframe\">\n",
              "  <thead>\n",
              "    <tr style=\"text-align: right;\">\n",
              "      <th></th>\n",
              "      <th>batatinha</th>\n",
              "      <th>quando</th>\n",
              "      <th>nasce</th>\n",
              "      <th>esparrama</th>\n",
              "      <th>pelo</th>\n",
              "      <th>chão</th>\n",
              "      <th>a</th>\n",
              "      <th>pior</th>\n",
              "      <th>experiência</th>\n",
              "      <th>da</th>\n",
              "      <th>...</th>\n",
              "      <th>quero</th>\n",
              "      <th>meu</th>\n",
              "      <th>dinheiro</th>\n",
              "      <th>de</th>\n",
              "      <th>volta</th>\n",
              "      <th>do</th>\n",
              "      <th>açaí</th>\n",
              "      <th>é</th>\n",
              "      <th>melhor</th>\n",
              "      <th>coisa</th>\n",
              "    </tr>\n",
              "  </thead>\n",
              "  <tbody>\n",
              "    <tr>\n",
              "      <th>0</th>\n",
              "      <td>1</td>\n",
              "      <td>1</td>\n",
              "      <td>1</td>\n",
              "      <td>1</td>\n",
              "      <td>1</td>\n",
              "      <td>1</td>\n",
              "      <td>0</td>\n",
              "      <td>0</td>\n",
              "      <td>0</td>\n",
              "      <td>0</td>\n",
              "      <td>...</td>\n",
              "      <td>0</td>\n",
              "      <td>0</td>\n",
              "      <td>0</td>\n",
              "      <td>0</td>\n",
              "      <td>0</td>\n",
              "      <td>0</td>\n",
              "      <td>0</td>\n",
              "      <td>0</td>\n",
              "      <td>0</td>\n",
              "      <td>0</td>\n",
              "    </tr>\n",
              "    <tr>\n",
              "      <th>1</th>\n",
              "      <td>0</td>\n",
              "      <td>0</td>\n",
              "      <td>0</td>\n",
              "      <td>0</td>\n",
              "      <td>0</td>\n",
              "      <td>0</td>\n",
              "      <td>1</td>\n",
              "      <td>1</td>\n",
              "      <td>1</td>\n",
              "      <td>1</td>\n",
              "      <td>...</td>\n",
              "      <td>0</td>\n",
              "      <td>0</td>\n",
              "      <td>0</td>\n",
              "      <td>0</td>\n",
              "      <td>0</td>\n",
              "      <td>0</td>\n",
              "      <td>0</td>\n",
              "      <td>0</td>\n",
              "      <td>0</td>\n",
              "      <td>0</td>\n",
              "    </tr>\n",
              "    <tr>\n",
              "      <th>2</th>\n",
              "      <td>0</td>\n",
              "      <td>0</td>\n",
              "      <td>0</td>\n",
              "      <td>0</td>\n",
              "      <td>0</td>\n",
              "      <td>0</td>\n",
              "      <td>0</td>\n",
              "      <td>0</td>\n",
              "      <td>0</td>\n",
              "      <td>0</td>\n",
              "      <td>...</td>\n",
              "      <td>1</td>\n",
              "      <td>1</td>\n",
              "      <td>1</td>\n",
              "      <td>1</td>\n",
              "      <td>1</td>\n",
              "      <td>0</td>\n",
              "      <td>0</td>\n",
              "      <td>0</td>\n",
              "      <td>0</td>\n",
              "      <td>0</td>\n",
              "    </tr>\n",
              "    <tr>\n",
              "      <th>3</th>\n",
              "      <td>0</td>\n",
              "      <td>0</td>\n",
              "      <td>0</td>\n",
              "      <td>1</td>\n",
              "      <td>0</td>\n",
              "      <td>0</td>\n",
              "      <td>1</td>\n",
              "      <td>0</td>\n",
              "      <td>1</td>\n",
              "      <td>0</td>\n",
              "      <td>...</td>\n",
              "      <td>0</td>\n",
              "      <td>0</td>\n",
              "      <td>1</td>\n",
              "      <td>0</td>\n",
              "      <td>0</td>\n",
              "      <td>1</td>\n",
              "      <td>0</td>\n",
              "      <td>0</td>\n",
              "      <td>0</td>\n",
              "      <td>0</td>\n",
              "    </tr>\n",
              "    <tr>\n",
              "      <th>4</th>\n",
              "      <td>0</td>\n",
              "      <td>0</td>\n",
              "      <td>0</td>\n",
              "      <td>0</td>\n",
              "      <td>0</td>\n",
              "      <td>0</td>\n",
              "      <td>1</td>\n",
              "      <td>0</td>\n",
              "      <td>0</td>\n",
              "      <td>1</td>\n",
              "      <td>...</td>\n",
              "      <td>0</td>\n",
              "      <td>0</td>\n",
              "      <td>0</td>\n",
              "      <td>0</td>\n",
              "      <td>0</td>\n",
              "      <td>0</td>\n",
              "      <td>1</td>\n",
              "      <td>1</td>\n",
              "      <td>1</td>\n",
              "      <td>1</td>\n",
              "    </tr>\n",
              "  </tbody>\n",
              "</table>\n",
              "<p>5 rows × 22 columns</p>\n",
              "</div>\n",
              "      <button class=\"colab-df-convert\" onclick=\"convertToInteractive('df-f862750e-e0f3-4d32-9acf-9bfd0d3ba211')\"\n",
              "              title=\"Convert this dataframe to an interactive table.\"\n",
              "              style=\"display:none;\">\n",
              "        \n",
              "  <svg xmlns=\"http://www.w3.org/2000/svg\" height=\"24px\"viewBox=\"0 0 24 24\"\n",
              "       width=\"24px\">\n",
              "    <path d=\"M0 0h24v24H0V0z\" fill=\"none\"/>\n",
              "    <path d=\"M18.56 5.44l.94 2.06.94-2.06 2.06-.94-2.06-.94-.94-2.06-.94 2.06-2.06.94zm-11 1L8.5 8.5l.94-2.06 2.06-.94-2.06-.94L8.5 2.5l-.94 2.06-2.06.94zm10 10l.94 2.06.94-2.06 2.06-.94-2.06-.94-.94-2.06-.94 2.06-2.06.94z\"/><path d=\"M17.41 7.96l-1.37-1.37c-.4-.4-.92-.59-1.43-.59-.52 0-1.04.2-1.43.59L10.3 9.45l-7.72 7.72c-.78.78-.78 2.05 0 2.83L4 21.41c.39.39.9.59 1.41.59.51 0 1.02-.2 1.41-.59l7.78-7.78 2.81-2.81c.8-.78.8-2.07 0-2.86zM5.41 20L4 18.59l7.72-7.72 1.47 1.35L5.41 20z\"/>\n",
              "  </svg>\n",
              "      </button>\n",
              "      \n",
              "  <style>\n",
              "    .colab-df-container {\n",
              "      display:flex;\n",
              "      flex-wrap:wrap;\n",
              "      gap: 12px;\n",
              "    }\n",
              "\n",
              "    .colab-df-convert {\n",
              "      background-color: #E8F0FE;\n",
              "      border: none;\n",
              "      border-radius: 50%;\n",
              "      cursor: pointer;\n",
              "      display: none;\n",
              "      fill: #1967D2;\n",
              "      height: 32px;\n",
              "      padding: 0 0 0 0;\n",
              "      width: 32px;\n",
              "    }\n",
              "\n",
              "    .colab-df-convert:hover {\n",
              "      background-color: #E2EBFA;\n",
              "      box-shadow: 0px 1px 2px rgba(60, 64, 67, 0.3), 0px 1px 3px 1px rgba(60, 64, 67, 0.15);\n",
              "      fill: #174EA6;\n",
              "    }\n",
              "\n",
              "    [theme=dark] .colab-df-convert {\n",
              "      background-color: #3B4455;\n",
              "      fill: #D2E3FC;\n",
              "    }\n",
              "\n",
              "    [theme=dark] .colab-df-convert:hover {\n",
              "      background-color: #434B5C;\n",
              "      box-shadow: 0px 1px 3px 1px rgba(0, 0, 0, 0.15);\n",
              "      filter: drop-shadow(0px 1px 2px rgba(0, 0, 0, 0.3));\n",
              "      fill: #FFFFFF;\n",
              "    }\n",
              "  </style>\n",
              "\n",
              "      <script>\n",
              "        const buttonEl =\n",
              "          document.querySelector('#df-f862750e-e0f3-4d32-9acf-9bfd0d3ba211 button.colab-df-convert');\n",
              "        buttonEl.style.display =\n",
              "          google.colab.kernel.accessAllowed ? 'block' : 'none';\n",
              "\n",
              "        async function convertToInteractive(key) {\n",
              "          const element = document.querySelector('#df-f862750e-e0f3-4d32-9acf-9bfd0d3ba211');\n",
              "          const dataTable =\n",
              "            await google.colab.kernel.invokeFunction('convertToInteractive',\n",
              "                                                     [key], {});\n",
              "          if (!dataTable) return;\n",
              "\n",
              "          const docLinkHtml = 'Like what you see? Visit the ' +\n",
              "            '<a target=\"_blank\" href=https://colab.research.google.com/notebooks/data_table.ipynb>data table notebook</a>'\n",
              "            + ' to learn more about interactive tables.';\n",
              "          element.innerHTML = '';\n",
              "          dataTable['output_type'] = 'display_data';\n",
              "          await google.colab.output.renderOutput(dataTable, element);\n",
              "          const docLink = document.createElement('div');\n",
              "          docLink.innerHTML = docLinkHtml;\n",
              "          element.appendChild(docLink);\n",
              "        }\n",
              "      </script>\n",
              "    </div>\n",
              "  </div>\n",
              "  "
            ]
          },
          "metadata": {},
          "execution_count": 113
        }
      ]
    },
    {
      "cell_type": "markdown",
      "source": [
        "Bag of words - contagem\n",
        "Conta quantas vezes cada palavra apareceu no texto"
      ],
      "metadata": {
        "id": "6rJxvu6-rr2H"
      }
    },
    {
      "cell_type": "code",
      "source": [
        "bow_contagem = dict()\n",
        "\n",
        "for i, sent in enumerate(corpus):\n",
        "  bow_contagem[i] = dict()\n",
        "  for wrd in sent.lower().split():\n",
        "    if wrd in bow_contagem[i].keys():\n",
        "      bow_contagem[i][wrd] += 1\n",
        "    else:\n",
        "      bow_contagem[i][wrd] = 1\n",
        "\n",
        "df_contagem = pd.DataFrame().from_records(bow_contagem).T.fillna(0)\n",
        "df_contagem = df_contagem.astype(int)\n",
        "df_contagem"
      ],
      "metadata": {
        "colab": {
          "base_uri": "https://localhost:8080/",
          "height": 236
        },
        "id": "LXbuN_R1j6Zk",
        "outputId": "d320a249-627b-447b-a9b3-01f08597970e"
      },
      "execution_count": 114,
      "outputs": [
        {
          "output_type": "execute_result",
          "data": {
            "text/plain": [
              "   batatinha  quando  nasce  esparrama  pelo  chão  a  pior  experiência  da  \\\n",
              "0          1       1      1          1     1     1  0     0            0   0   \n",
              "1          0       0      0          0     0     0  1     1            1   1   \n",
              "2          0       0      0          0     0     0  0     0            0   0   \n",
              "3          0       0      0          1     0     0  1     0            1   0   \n",
              "4          0       0      0          0     0     0  1     0            0   1   \n",
              "\n",
              "   ...  quero  meu  dinheiro  de  volta  do  açaí  é  melhor  coisa  \n",
              "0  ...      0    0         0   0      0   0     0  0       0      0  \n",
              "1  ...      0    0         0   0      0   0     0  0       0      0  \n",
              "2  ...      1    1         1   1      1   0     0  0       0      0  \n",
              "3  ...      0    0         1   0      0   1     0  0       0      0  \n",
              "4  ...      0    0         0   0      0   0     1  1       1      1  \n",
              "\n",
              "[5 rows x 22 columns]"
            ],
            "text/html": [
              "\n",
              "  <div id=\"df-2d08c658-e08c-47b6-94f1-eb6a473d68c0\">\n",
              "    <div class=\"colab-df-container\">\n",
              "      <div>\n",
              "<style scoped>\n",
              "    .dataframe tbody tr th:only-of-type {\n",
              "        vertical-align: middle;\n",
              "    }\n",
              "\n",
              "    .dataframe tbody tr th {\n",
              "        vertical-align: top;\n",
              "    }\n",
              "\n",
              "    .dataframe thead th {\n",
              "        text-align: right;\n",
              "    }\n",
              "</style>\n",
              "<table border=\"1\" class=\"dataframe\">\n",
              "  <thead>\n",
              "    <tr style=\"text-align: right;\">\n",
              "      <th></th>\n",
              "      <th>batatinha</th>\n",
              "      <th>quando</th>\n",
              "      <th>nasce</th>\n",
              "      <th>esparrama</th>\n",
              "      <th>pelo</th>\n",
              "      <th>chão</th>\n",
              "      <th>a</th>\n",
              "      <th>pior</th>\n",
              "      <th>experiência</th>\n",
              "      <th>da</th>\n",
              "      <th>...</th>\n",
              "      <th>quero</th>\n",
              "      <th>meu</th>\n",
              "      <th>dinheiro</th>\n",
              "      <th>de</th>\n",
              "      <th>volta</th>\n",
              "      <th>do</th>\n",
              "      <th>açaí</th>\n",
              "      <th>é</th>\n",
              "      <th>melhor</th>\n",
              "      <th>coisa</th>\n",
              "    </tr>\n",
              "  </thead>\n",
              "  <tbody>\n",
              "    <tr>\n",
              "      <th>0</th>\n",
              "      <td>1</td>\n",
              "      <td>1</td>\n",
              "      <td>1</td>\n",
              "      <td>1</td>\n",
              "      <td>1</td>\n",
              "      <td>1</td>\n",
              "      <td>0</td>\n",
              "      <td>0</td>\n",
              "      <td>0</td>\n",
              "      <td>0</td>\n",
              "      <td>...</td>\n",
              "      <td>0</td>\n",
              "      <td>0</td>\n",
              "      <td>0</td>\n",
              "      <td>0</td>\n",
              "      <td>0</td>\n",
              "      <td>0</td>\n",
              "      <td>0</td>\n",
              "      <td>0</td>\n",
              "      <td>0</td>\n",
              "      <td>0</td>\n",
              "    </tr>\n",
              "    <tr>\n",
              "      <th>1</th>\n",
              "      <td>0</td>\n",
              "      <td>0</td>\n",
              "      <td>0</td>\n",
              "      <td>0</td>\n",
              "      <td>0</td>\n",
              "      <td>0</td>\n",
              "      <td>1</td>\n",
              "      <td>1</td>\n",
              "      <td>1</td>\n",
              "      <td>1</td>\n",
              "      <td>...</td>\n",
              "      <td>0</td>\n",
              "      <td>0</td>\n",
              "      <td>0</td>\n",
              "      <td>0</td>\n",
              "      <td>0</td>\n",
              "      <td>0</td>\n",
              "      <td>0</td>\n",
              "      <td>0</td>\n",
              "      <td>0</td>\n",
              "      <td>0</td>\n",
              "    </tr>\n",
              "    <tr>\n",
              "      <th>2</th>\n",
              "      <td>0</td>\n",
              "      <td>0</td>\n",
              "      <td>0</td>\n",
              "      <td>0</td>\n",
              "      <td>0</td>\n",
              "      <td>0</td>\n",
              "      <td>0</td>\n",
              "      <td>0</td>\n",
              "      <td>0</td>\n",
              "      <td>0</td>\n",
              "      <td>...</td>\n",
              "      <td>1</td>\n",
              "      <td>1</td>\n",
              "      <td>1</td>\n",
              "      <td>1</td>\n",
              "      <td>1</td>\n",
              "      <td>0</td>\n",
              "      <td>0</td>\n",
              "      <td>0</td>\n",
              "      <td>0</td>\n",
              "      <td>0</td>\n",
              "    </tr>\n",
              "    <tr>\n",
              "      <th>3</th>\n",
              "      <td>0</td>\n",
              "      <td>0</td>\n",
              "      <td>0</td>\n",
              "      <td>1</td>\n",
              "      <td>0</td>\n",
              "      <td>0</td>\n",
              "      <td>1</td>\n",
              "      <td>0</td>\n",
              "      <td>1</td>\n",
              "      <td>0</td>\n",
              "      <td>...</td>\n",
              "      <td>0</td>\n",
              "      <td>0</td>\n",
              "      <td>1</td>\n",
              "      <td>0</td>\n",
              "      <td>0</td>\n",
              "      <td>1</td>\n",
              "      <td>0</td>\n",
              "      <td>0</td>\n",
              "      <td>0</td>\n",
              "      <td>0</td>\n",
              "    </tr>\n",
              "    <tr>\n",
              "      <th>4</th>\n",
              "      <td>0</td>\n",
              "      <td>0</td>\n",
              "      <td>0</td>\n",
              "      <td>0</td>\n",
              "      <td>0</td>\n",
              "      <td>0</td>\n",
              "      <td>1</td>\n",
              "      <td>0</td>\n",
              "      <td>0</td>\n",
              "      <td>1</td>\n",
              "      <td>...</td>\n",
              "      <td>0</td>\n",
              "      <td>0</td>\n",
              "      <td>0</td>\n",
              "      <td>0</td>\n",
              "      <td>0</td>\n",
              "      <td>0</td>\n",
              "      <td>1</td>\n",
              "      <td>1</td>\n",
              "      <td>1</td>\n",
              "      <td>1</td>\n",
              "    </tr>\n",
              "  </tbody>\n",
              "</table>\n",
              "<p>5 rows × 22 columns</p>\n",
              "</div>\n",
              "      <button class=\"colab-df-convert\" onclick=\"convertToInteractive('df-2d08c658-e08c-47b6-94f1-eb6a473d68c0')\"\n",
              "              title=\"Convert this dataframe to an interactive table.\"\n",
              "              style=\"display:none;\">\n",
              "        \n",
              "  <svg xmlns=\"http://www.w3.org/2000/svg\" height=\"24px\"viewBox=\"0 0 24 24\"\n",
              "       width=\"24px\">\n",
              "    <path d=\"M0 0h24v24H0V0z\" fill=\"none\"/>\n",
              "    <path d=\"M18.56 5.44l.94 2.06.94-2.06 2.06-.94-2.06-.94-.94-2.06-.94 2.06-2.06.94zm-11 1L8.5 8.5l.94-2.06 2.06-.94-2.06-.94L8.5 2.5l-.94 2.06-2.06.94zm10 10l.94 2.06.94-2.06 2.06-.94-2.06-.94-.94-2.06-.94 2.06-2.06.94z\"/><path d=\"M17.41 7.96l-1.37-1.37c-.4-.4-.92-.59-1.43-.59-.52 0-1.04.2-1.43.59L10.3 9.45l-7.72 7.72c-.78.78-.78 2.05 0 2.83L4 21.41c.39.39.9.59 1.41.59.51 0 1.02-.2 1.41-.59l7.78-7.78 2.81-2.81c.8-.78.8-2.07 0-2.86zM5.41 20L4 18.59l7.72-7.72 1.47 1.35L5.41 20z\"/>\n",
              "  </svg>\n",
              "      </button>\n",
              "      \n",
              "  <style>\n",
              "    .colab-df-container {\n",
              "      display:flex;\n",
              "      flex-wrap:wrap;\n",
              "      gap: 12px;\n",
              "    }\n",
              "\n",
              "    .colab-df-convert {\n",
              "      background-color: #E8F0FE;\n",
              "      border: none;\n",
              "      border-radius: 50%;\n",
              "      cursor: pointer;\n",
              "      display: none;\n",
              "      fill: #1967D2;\n",
              "      height: 32px;\n",
              "      padding: 0 0 0 0;\n",
              "      width: 32px;\n",
              "    }\n",
              "\n",
              "    .colab-df-convert:hover {\n",
              "      background-color: #E2EBFA;\n",
              "      box-shadow: 0px 1px 2px rgba(60, 64, 67, 0.3), 0px 1px 3px 1px rgba(60, 64, 67, 0.15);\n",
              "      fill: #174EA6;\n",
              "    }\n",
              "\n",
              "    [theme=dark] .colab-df-convert {\n",
              "      background-color: #3B4455;\n",
              "      fill: #D2E3FC;\n",
              "    }\n",
              "\n",
              "    [theme=dark] .colab-df-convert:hover {\n",
              "      background-color: #434B5C;\n",
              "      box-shadow: 0px 1px 3px 1px rgba(0, 0, 0, 0.15);\n",
              "      filter: drop-shadow(0px 1px 2px rgba(0, 0, 0, 0.3));\n",
              "      fill: #FFFFFF;\n",
              "    }\n",
              "  </style>\n",
              "\n",
              "      <script>\n",
              "        const buttonEl =\n",
              "          document.querySelector('#df-2d08c658-e08c-47b6-94f1-eb6a473d68c0 button.colab-df-convert');\n",
              "        buttonEl.style.display =\n",
              "          google.colab.kernel.accessAllowed ? 'block' : 'none';\n",
              "\n",
              "        async function convertToInteractive(key) {\n",
              "          const element = document.querySelector('#df-2d08c658-e08c-47b6-94f1-eb6a473d68c0');\n",
              "          const dataTable =\n",
              "            await google.colab.kernel.invokeFunction('convertToInteractive',\n",
              "                                                     [key], {});\n",
              "          if (!dataTable) return;\n",
              "\n",
              "          const docLinkHtml = 'Like what you see? Visit the ' +\n",
              "            '<a target=\"_blank\" href=https://colab.research.google.com/notebooks/data_table.ipynb>data table notebook</a>'\n",
              "            + ' to learn more about interactive tables.';\n",
              "          element.innerHTML = '';\n",
              "          dataTable['output_type'] = 'display_data';\n",
              "          await google.colab.output.renderOutput(dataTable, element);\n",
              "          const docLink = document.createElement('div');\n",
              "          docLink.innerHTML = docLinkHtml;\n",
              "          element.appendChild(docLink);\n",
              "        }\n",
              "      </script>\n",
              "    </div>\n",
              "  </div>\n",
              "  "
            ]
          },
          "metadata": {},
          "execution_count": 114
        }
      ]
    },
    {
      "cell_type": "markdown",
      "source": [
        "Similaridade de textos: comparação de cosseno"
      ],
      "metadata": {
        "id": "jojMtkQZryf_"
      }
    },
    {
      "cell_type": "code",
      "source": [
        "def norma(vec):\n",
        "  norma = 0\n",
        "  for x in vec:\n",
        "    norma += x**2\n",
        "  norma ** 0.5\n",
        "  return norma\n",
        "\n",
        "def similaridade_de_coseno(vec1, vec2):\n",
        "  prod_interno = 0\n",
        "  for i in range(len(vec1)):\n",
        "    prod_interno += vec1[i] * vec2[i]\n",
        "\n",
        "  norma1 = norma(vec1)\n",
        "  norma2 = norma(vec2)\n",
        "\n",
        "  print(prod_interno, norma1, norma2)\n",
        "\n",
        "  return prod_interno/(norma1*norma2)"
      ],
      "metadata": {
        "id": "35gWE50Qr3Gm"
      },
      "execution_count": 115,
      "outputs": []
    },
    {
      "cell_type": "code",
      "source": [
        "similaridade_de_coseno([0,0,1,1], [0, 0, 1, 1])"
      ],
      "metadata": {
        "colab": {
          "base_uri": "https://localhost:8080/"
        },
        "id": "7zRJnlzuthEC",
        "outputId": "36558d82-c74a-418c-c3ab-a407166681a0"
      },
      "execution_count": 118,
      "outputs": [
        {
          "output_type": "stream",
          "name": "stdout",
          "text": [
            "2 2 2\n"
          ]
        },
        {
          "output_type": "execute_result",
          "data": {
            "text/plain": [
              "0.5"
            ]
          },
          "metadata": {},
          "execution_count": 118
        }
      ]
    }
  ],
  "metadata": {
    "colab": {
      "name": "Untitled1.ipynb",
      "provenance": [],
      "include_colab_link": true
    },
    "kernelspec": {
      "display_name": "Python 3.9.13 64-bit",
      "language": "python",
      "name": "python3"
    },
    "language_info": {
      "codemirror_mode": {
        "name": "ipython",
        "version": 3
      },
      "file_extension": ".py",
      "mimetype": "text/x-python",
      "name": "python",
      "nbconvert_exporter": "python",
      "pygments_lexer": "ipython3",
      "version": "3.9.13"
    },
    "vscode": {
      "interpreter": {
        "hash": "3c3fdd1ba6fa6149e0a55b9d95e637df8fd62d3a04e8e673bb353b444f545e4d"
      }
    }
  },
  "nbformat": 4,
  "nbformat_minor": 0
}