{
  "nbformat": 4,
  "nbformat_minor": 0,
  "metadata": {
    "colab": {
      "name": "Untitled0.ipynb",
      "provenance": [],
      "collapsed_sections": [],
      "authorship_tag": "ABX9TyO8UKN7c21x/1sEhd2fpixi",
      "include_colab_link": true
    },
    "kernelspec": {
      "name": "python3",
      "display_name": "Python 3"
    },
    "language_info": {
      "name": "python"
    }
  },
  "cells": [
    {
      "cell_type": "markdown",
      "metadata": {
        "id": "view-in-github",
        "colab_type": "text"
      },
      "source": [
        "<a href=\"https://colab.research.google.com/github/ABMHub/NLP/blob/main/regex.ipynb\" target=\"_parent\"><img src=\"https://colab.research.google.com/assets/colab-badge.svg\" alt=\"Open In Colab\"/></a>"
      ]
    },
    {
      "cell_type": "code",
      "execution_count": 62,
      "metadata": {
        "id": "uVq9aKtgbksB"
      },
      "outputs": [],
      "source": [
        "import re"
      ]
    },
    {
      "cell_type": "markdown",
      "source": [
        "Primeiro texto"
      ],
      "metadata": {
        "id": "RIMKqU22kskg"
      }
    },
    {
      "cell_type": "code",
      "source": [
        "wrd1 = '''((TITULO))Extrato de Termo de Aditamento\n",
        "((TEXTO))((NG))2013-0.009.972-7((CL)). OBJETO: ProrrogaÃ§Ã£o Contratual da Escola de DanÃ§a de SÃ£o Paulo, referente aos meses de janeiro a marÃ§o de 2016. CONTRATANTE: ((NG))FTMSP/EDSP((CL)) e CONTRATADO: Sandra LÃºcia Gomes; FunÃ§Ã£o: Oficinas PrÃ¡ticas de DanÃ§a; Valor Total R$ 14.100,00. Termo de Aditamento nÂº 021/2016.\n",
        "\n",
        "'''"
      ],
      "metadata": {
        "id": "Dgeb2Q-kgNum"
      },
      "execution_count": 63,
      "outputs": []
    },
    {
      "cell_type": "code",
      "source": [
        "wrd2 = '''((TITULO))PROCESSO: 2015-0.272.291-3\n",
        "((TEXTO))((NG))DIVISÃƒO ADMINISTRATIVA, SMS-1 / CONTRATOS((CL))\n",
        "EXTRATO DO TERMO DE CONTRATO NÂº 004/2016-SMS-1/CONTRATOS\n",
        "CONTRATANTE: Secretaria Municipal da SaÃºde da Prefeitura do MunicÃ­pio de SÃ£o Paulo\n",
        "CONTRATADA: MARIA REGINA GUIMARÃƒES SILVA, CPF nÂº 735.066.726-49\n",
        "OBJETO DO CONTRATO: PrestaÃ§Ã£o de serviÃ§os de docÃªncia aos Agentes de Controle de Zoonoses no Curso â€œTÃ©cnico em VigilÃ¢ncia em SaÃºde - TVSâ€ na Escola Municipal de SaÃºde Regional Leste I.\n",
        "DOTAÃ‡ÃƒO: 84.10.10.128.3011.2180.3.3.90.36.00.02\n",
        "DATA DE ASSINATURA: 18/01/2016\n",
        "VIGÃŠNCIA: 24 (vinte e quatro) meses\n",
        "VALOR DO CONTRATO: R$ 30.560,00'''"
      ],
      "metadata": {
        "id": "ya5TmXd-kyCB"
      },
      "execution_count": 64,
      "outputs": []
    },
    {
      "cell_type": "code",
      "source": [
        "wrd3 = '''((TITULO))CONTRAÃ‡ÃƒO DE NATUREZA ARTÃSTICA\n",
        "\n",
        "((TEXTO))((NG)) Publicado por omissÃ£o no D.O.C de 23.01.2016 (CL))\n",
        "\n",
        "((NG)) Processo SEI 6025.2016/0000078-1((CL))\n",
        "\n",
        "Ã€ vista dos elementos constantes do presente, em especial o Parecer da ComissÃ£o de Atividades ArtÃ­sticas e Culturais, na competÃªncia a mim delegada pela Portaria nÂº 19/2006 â€“ SMC.G, ((NG))AUTORIZO,((CL)) com fundamento no artigo 25, inciso III, da Lei Federal nÂº 8.666/1993 e alteraÃ§Ãµes posteriores, artigo 1Âº da Lei Municipal 13.278/2002, nos termos dos artigos 16 e 17 do Decreto Municipal nÂº 44.279/2003, a contrataÃ§Ã£o dos serviÃ§os de natureza artÃ­stica nas condiÃ§Ãµes abaixo estipuladas, observada a legislaÃ§Ã£o vigente e demais cautelas legais:\n",
        "\n",
        "\n",
        "\n",
        "((NG))CONTRATADO: LUIZ GONZAGA KEDI AYRÃƒO((CL)) (CPF nÂº 071.133.582-68), nome artÃ­stico â€œLUIZ AYRÃƒOâ€, conforme a DeclaraÃ§Ã£o de Exclusividade, por intermÃ©dio de((NG)) NORMA PRODUCOES EIRELLI EPP((CL)), inscrita no CNPJ sob o nÂº 14.560.602/0001-08.\n",
        "\n",
        "\n",
        "\n",
        "((NG))OBJETO:((CL)) EspetÃ¡culo Musical / Show - Luiz AyrÃ£o - Show de Sucessos.\n",
        "\n",
        "\n",
        "\n",
        "LOCAL: TEATRO LEOPOLDO FRÃ“ES\n",
        "\n",
        "Data: 23/01/2016 â€“ SÃ¡bado Ã s 20 horas\n",
        "\n",
        "LOCAL: TEATRO JOÃƒO CAETANO\n",
        "\n",
        "Data: 28/02/2016 â€“ Domingo Ã s 19 horas\n",
        "\n",
        "LOCAL: TEATRO FLÃVIO IMPÃ‰RIO\n",
        "\n",
        "Data: 22/04/2016 â€“ Sexta-feira Ã s 20 horas.\n",
        "\n",
        "LOCAL: TEATRO ALFREDO MESQUITA\n",
        "\n",
        "Data: 21/05/2016 â€“ Domingo Ã s 21 horas\n",
        "\n",
        "\n",
        "\n",
        "((NG))Tempo Aproximado de DuraÃ§Ã£o do EspetÃ¡culo:((CL)) 90 minutos por apresentaÃ§Ã£o.\n",
        "\n",
        "\n",
        "\n",
        "((NG))VALOR GLOBAL: R$ 55.000,00 (cinquenta e cinco mil reais), sendo: 1Âª parcela de R$ 13.750,00 - liberÃ¡vel a partir de 23/02/2016. 2Âª parcela de R$ 13.750,00 - liberÃ¡vel a partir de 28/03/2016. 3Âª parcela de R$ 13.750,00 - liberÃ¡vel a partir de 22/05/2016. 4Âª parcela de R$ 13.750,00 - liberÃ¡vel a partir de 21/06/2016. O pagamento de cada parcela se darÃ¡ em 15 (quinze) dias Ãºteis apÃ³s a data de confirmaÃ§Ã£o da correta execuÃ§Ã£o dos serviÃ§os.\n",
        "\n",
        "\n",
        "\n",
        "((NG))DOTAÃ‡ÃƒO ORÃ‡AMENTÃRIA:((CL)) 25.10 13.392.3001.6.354 3.3.90.39.00 00, conforme anotaÃ§Ã£o de reserva de recursos.\n",
        "\n",
        "\n",
        "\n",
        " Nos termos do art. 6Âº do Decreto Municipal nÂº 54.873/2014, designo como fiscal desta contrataÃ§Ã£o artÃ­stica a servidora, Katia D'Agnolo Bocchi, RF 523.671 e, como substituta, Ana Luiza Noblat de Aguiar, RF 814.298.'''"
      ],
      "metadata": {
        "id": "RaIa83pkmeyG"
      },
      "execution_count": 65,
      "outputs": []
    },
    {
      "cell_type": "code",
      "source": [
        "wrd4 = '''((TITULO))PROCESSO: 2015-0.260.904-1\n",
        "((TEXTO))((NG))DIVISÃƒO TÃ‰CNICA DE SUPRIMENTOS, SMS-3\n",
        "SETOR DE ATAS DE REGISTRO DE PREÃ‡OS\n",
        "EXTRATO\n",
        "ATA DE REGISTRO DE PREÃ‡O NÂº 017/2016-SMS.G((CL))\n",
        "PREGÃƒO ELETRÃ”NICO NÂº 325/2015-SMS.G\n",
        "ORGÃƒO GESTOR: SECRETARIA MUNICIPAL DA SAÃšDE\n",
        "DETENTORA: SDK COMÃ‰RCIO DE CORRELATOS DA SAÃšDE LTDA.- EPP\n",
        "CNPJ: 13.841.510/0001-33\n",
        "OBJETO: HEMOSTÃTICO\n",
        "VIGÃŠNCIA: 20/01/2016 A 20/01/2017\n",
        "\n",
        "Item 03 â€“ HEMOSTÃTICO LOCAL\n",
        "R$ 1,94/blister\n",
        "Marca: Hemospon\n",
        "Fabricante: Technew\n",
        "Embalagem/ApresentaÃ§Ã£o: Caixa com 01 blister com 10 unidades\n",
        "Registro no M.S.: 80015520039\n",
        "ProcedÃªncia: Nacional\n",
        "CÃ³digo Supri: 11.065.007.009.1642-8\n",
        "\n",
        "Consumo MÃ©dio Mensal Estimado: 1.054 blisters\n",
        "Consumo MÃ©dio Anual Estimado: 12.648 blisters'''"
      ],
      "metadata": {
        "id": "_h36WmU3m4uX"
      },
      "execution_count": 66,
      "outputs": []
    },
    {
      "cell_type": "code",
      "source": [
        "wrd5 = '''((TITULO))NOTIFICAÃ‡ÃƒO\n",
        "((TEXTO))((NG))PROCESSO NÂº 2015-0.338.403-5((CL))\n",
        "I - NotificaÃ§Ã£o para apresentaÃ§Ã£o de Defesa PrÃ©via, no prazo de 05 (cinco) dias Ãºteis, Ã  empresa UNIT INDÃšSTRIA, COMÃ‰RCIO, IMPORTAÃ‡ÃƒO E EXPORTAÃ‡ÃƒO LTDA., inscrita no CNPJ sob o nÂº 66.969.262/0001-77, que se encontra sujeita a aplicaÃ§Ã£o de penalidade por irregularidade no fornecimento em consignaÃ§Ã£o de materiais para videolaparoscopia com comodato de equipamentos, materiais e instrumentais a serem utilizados nas unidades hospitalares pertencentes Ã  Autarquia Hospitalar Municipal, decorrente do Termo de Contrato nÂº 243/2014, posto que os serviÃ§os relativos aos Termos de UtilizaÃ§Ã£o nÂº 1482, Data da cirurgia: 08/10/2015 e Nota Fiscal nÂº 6043, prestados no Hospital Municipal ProfÂº. Dr. AlÃ­pio Correa Netto, foram considerados NÃƒO A CONTENTO.\n",
        "II - Cumpre salientar que a fiscalizaÃ§Ã£o exercida verificou o descumprimento de obrigaÃ§Ãµes contratuais, estando a empresa sujeta Ã  penalidade prevista na ClÃ¡usula Sexta, item 6.2, subitem 6.2.5, isto Ã©, multa de 15% (quinze por cento) sobre a parcela inexecutada, no caso de inexecuÃ§Ã£o parcial, no cometimento de qualquer outra irregularidade no cumprimento da obrigaÃ§Ã£o, ou nas hipÃ³teses de atrasos superiores a 20 (vinte) dias. \n",
        "III - Para efeito de apresentaÃ§Ã£o de defesa prÃ©via utilizar a referÃªncia Processo Administrativo nÂº 2015-0.338.403-5, efetuando o protocolo na Rua Frei Caneca, 1398/ 1402, TÃ©rreo, ConsolaÃ§Ã£o, SÃ£o Paulo/SP. '''"
      ],
      "metadata": {
        "id": "DE9rOhrznGZP"
      },
      "execution_count": 67,
      "outputs": []
    },
    {
      "cell_type": "code",
      "source": [
        "textao = wrd1 + wrd2 + wrd3 + wrd4 + wrd5\n",
        "textao"
      ],
      "metadata": {
        "colab": {
          "base_uri": "https://localhost:8080/",
          "height": 120
        },
        "id": "tpLcRrXFmYzo",
        "outputId": "2971de0e-f93b-453f-a1dd-48f8538b9960"
      },
      "execution_count": 68,
      "outputs": [
        {
          "output_type": "execute_result",
          "data": {
            "text/plain": [
              "\"((TITULO))Extrato de Termo de Aditamento\\n((TEXTO))((NG))2013-0.009.972-7((CL)). OBJETO: ProrrogaÃ§Ã£o Contratual da Escola de DanÃ§a de SÃ£o Paulo, referente aos meses de janeiro a marÃ§o de 2016. CONTRATANTE: ((NG))FTMSP/EDSP((CL)) e CONTRATADO: Sandra LÃºcia Gomes; FunÃ§Ã£o: Oficinas PrÃ¡ticas de DanÃ§a; Valor Total R$ 14.100,00. Termo de Aditamento nÂº 021/2016.\\n\\n((TITULO))PROCESSO: 2015-0.272.291-3\\n((TEXTO))((NG))DIVISÃƒO ADMINISTRATIVA, SMS-1 / CONTRATOS((CL))\\nEXTRATO DO TERMO DE CONTRATO NÂº 004/2016-SMS-1/CONTRATOS\\nCONTRATANTE: Secretaria Municipal da SaÃºde da Prefeitura do MunicÃ\\xadpio de SÃ£o Paulo\\nCONTRATADA: MARIA REGINA GUIMARÃƒES SILVA, CPF nÂº 735.066.726-49\\nOBJETO DO CONTRATO: PrestaÃ§Ã£o de serviÃ§os de docÃªncia aos Agentes de Controle de Zoonoses no Curso â€œTÃ©cnico em VigilÃ¢ncia em SaÃºde - TVSâ€\\uf19d na Escola Municipal de SaÃºde Regional Leste I.\\nDOTAÃ‡ÃƒO: 84.10.10.128.3011.2180.3.3.90.36.00.02\\nDATA DE ASSINATURA: 18/01/2016\\nVIGÃŠNCIA: 24 (vinte e quatro) meses\\nVALOR DO CONTRATO: R$ 30.560,00((TITULO))CONTRAÃ‡ÃƒO DE NATUREZA ARTÃ\\uf18dSTICA\\n\\n((TEXTO))((NG)) Publicado por omissÃ£o no D.O.C de 23.01.2016 (CL))\\n\\n((NG)) Processo SEI 6025.2016/0000078-1((CL))\\n\\nÃ€ vista dos elementos constantes do presente, em especial o Parecer da ComissÃ£o de Atividades ArtÃ\\xadsticas e Culturais, na competÃªncia a mim delegada pela Portaria nÂº 19/2006 â€“ SMC.G, ((NG))AUTORIZO,((CL)) com fundamento no artigo 25, inciso III, da Lei Federal nÂº 8.666/1993 e alteraÃ§Ãµes posteriores, artigo 1Âº da Lei Municipal 13.278/2002, nos termos dos artigos 16 e 17 do Decreto Municipal nÂº 44.279/2003, a contrataÃ§Ã£o dos serviÃ§os de natureza artÃ\\xadstica nas condiÃ§Ãµes abaixo estipuladas, observada a legislaÃ§Ã£o vigente e demais cautelas legais:\\n\\n\\n\\n((NG))CONTRATADO: LUIZ GONZAGA KEDI AYRÃƒO((CL)) (CPF nÂº 071.133.582-68), nome artÃ\\xadstico â€œLUIZ AYRÃƒOâ€\\uf19d, conforme a DeclaraÃ§Ã£o de Exclusividade, por intermÃ©dio de((NG)) NORMA PRODUCOES EIRELLI EPP((CL)), inscrita no CNPJ sob o nÂº 14.560.602/0001-08.\\n\\n\\n\\n((NG))OBJETO:((CL)) EspetÃ¡culo Musical / Show - Luiz AyrÃ£o - Show de Sucessos.\\n\\n\\n\\nLOCAL: TEATRO LEOPOLDO FRÃ“ES\\n\\nData: 23/01/2016 â€“ SÃ¡bado Ã\\xa0s 20 horas\\n\\nLOCAL: TEATRO JOÃƒO CAETANO\\n\\nData: 28/02/2016 â€“ Domingo Ã\\xa0s 19 horas\\n\\nLOCAL: TEATRO FLÃ\\uf181VIO IMPÃ‰RIO\\n\\nData: 22/04/2016 â€“ Sexta-feira Ã\\xa0s 20 horas.\\n\\nLOCAL: TEATRO ALFREDO MESQUITA\\n\\nData: 21/05/2016 â€“ Domingo Ã\\xa0s 21 horas\\n\\n\\n\\n((NG))Tempo Aproximado de DuraÃ§Ã£o do EspetÃ¡culo:((CL)) 90 minutos por apresentaÃ§Ã£o.\\n\\n\\n\\n((NG))VALOR GLOBAL: R$ 55.000,00 (cinquenta e cinco mil reais), sendo: 1Âª parcela de R$ 13.750,00 - liberÃ¡vel a partir de 23/02/2016. 2Âª parcela de R$ 13.750,00 - liberÃ¡vel a partir de 28/03/2016. 3Âª parcela de R$ 13.750,00 - liberÃ¡vel a partir de 22/05/2016. 4Âª parcela de R$ 13.750,00 - liberÃ¡vel a partir de 21/06/2016. O pagamento de cada parcela se darÃ¡ em 15 (quinze) dias Ãºteis apÃ³s a data de confirmaÃ§Ã£o da correta execuÃ§Ã£o dos serviÃ§os.\\n\\n\\n\\n((NG))DOTAÃ‡ÃƒO ORÃ‡AMENTÃ\\uf181RIA:((CL)) 25.10 13.392.3001.6.354 3.3.90.39.00 00, conforme anotaÃ§Ã£o de reserva de recursos.\\n\\n\\n\\n Nos termos do art. 6Âº do Decreto Municipal nÂº 54.873/2014, designo como fiscal desta contrataÃ§Ã£o artÃ\\xadstica a servidora, Katia D'Agnolo Bocchi, RF 523.671 e, como substituta, Ana Luiza Noblat de Aguiar, RF 814.298.((TITULO))PROCESSO: 2015-0.260.904-1\\n((TEXTO))((NG))DIVISÃƒO TÃ‰CNICA DE SUPRIMENTOS, SMS-3\\nSETOR DE ATAS DE REGISTRO DE PREÃ‡OS\\nEXTRATO\\nATA DE REGISTRO DE PREÃ‡O NÂº 017/2016-SMS.G((CL))\\nPREGÃƒO ELETRÃ”NICO NÂº 325/2015-SMS.G\\nORGÃƒO GESTOR: SECRETARIA MUNICIPAL DA SAÃšDE\\nDETENTORA: SDK COMÃ‰RCIO DE CORRELATOS DA SAÃšDE LTDA.- EPP\\nCNPJ: 13.841.510/0001-33\\nOBJETO: HEMOSTÃ\\uf181TICO\\nVIGÃŠNCIA: 20/01/2016 A 20/01/2017\\n\\nItem 03 â€“ HEMOSTÃ\\uf181TICO LOCAL\\nR$ 1,94/blister\\nMarca: Hemospon\\nFabricante: Technew\\nEmbalagem/ApresentaÃ§Ã£o: Caixa com 01 blister com 10 unidades\\nRegistro no M.S.: 80015520039\\nProcedÃªncia: Nacional\\nCÃ³digo Supri: 11.065.007.009.1642-8\\n\\nConsumo MÃ©dio Mensal Estimado: 1.054 blisters\\nConsumo MÃ©dio Anual Estimado: 12.648 blisters((TITULO))NOTIFICAÃ‡ÃƒO\\n((TEXTO))((NG))PROCESSO NÂº 2015-0.338.403-5((CL))\\nI - NotificaÃ§Ã£o para apresentaÃ§Ã£o de Defesa PrÃ©via, no prazo de 05 (cinco) dias Ãºteis, Ã\\xa0 empresa UNIT INDÃšSTRIA, COMÃ‰RCIO, IMPORTAÃ‡ÃƒO E EXPORTAÃ‡ÃƒO LTDA., inscrita no CNPJ sob o nÂº 66.969.262/0001-77, que se encontra sujeita a aplicaÃ§Ã£o de penalidade por irregularidade no fornecimento em consignaÃ§Ã£o de materiais para videolaparoscopia com comodato de equipamentos, materiais e instrumentais a serem utilizados nas unidades hospitalares pertencentes Ã\\xa0 Autarquia Hospitalar Municipal, decorrente do Termo de Contrato nÂº 243/2014, posto que os serviÃ§os relativos aos Termos de UtilizaÃ§Ã£o nÂº 1482, Data da cirurgia: 08/10/2015 e Nota Fiscal nÂº 6043, prestados no Hospital Municipal ProfÂº. Dr. AlÃ\\xadpio Correa Netto, foram considerados NÃƒO A CONTENTO.\\nII - Cumpre salientar que a fiscalizaÃ§Ã£o exercida verificou o descumprimento de obrigaÃ§Ãµes contratuais, estando a empresa sujeta Ã\\xa0 penalidade prevista na ClÃ¡usula Sexta, item 6.2, subitem 6.2.5, isto Ã©, multa de 15% (quinze por cento) sobre a parcela inexecutada, no caso de inexecuÃ§Ã£o parcial, no cometimento de qualquer outra irregularidade no cumprimento da obrigaÃ§Ã£o, ou nas hipÃ³teses de atrasos superiores a 20 (vinte) dias. \\nIII - Para efeito de apresentaÃ§Ã£o de defesa prÃ©via utilizar a referÃªncia Processo Administrativo nÂº 2015-0.338.403-5, efetuando o protocolo na Rua Frei Caneca, 1398/ 1402, TÃ©rreo, ConsolaÃ§Ã£o, SÃ£o Paulo/SP. \""
            ],
            "application/vnd.google.colaboratory.intrinsic+json": {
              "type": "string"
            }
          },
          "metadata": {},
          "execution_count": 68
        }
      ]
    },
    {
      "cell_type": "code",
      "source": [
        "titulo = re.findall(r\"\\(\\(TITULO\\)\\)(.+)\\n\", textao)\n",
        "codigo = re.findall(r\"\\d+\\-\\d+\\.\\d+\\.\\d+\\-\\d+\", textao) #2015-0.260.904-1\n",
        "dinheiro = re.findall(r\"R\\$ ?([0-9|.]+,\\d\\d)\", textao)\n",
        "titulo, codigo, dinheiro"
      ],
      "metadata": {
        "colab": {
          "base_uri": "https://localhost:8080/"
        },
        "id": "upQ7NvMqnb5x",
        "outputId": "380eb8e2-677b-4009-e260-2d5a68336601"
      },
      "execution_count": 69,
      "outputs": [
        {
          "output_type": "execute_result",
          "data": {
            "text/plain": [
              "(['Extrato de Termo de Aditamento',\n",
              "  'PROCESSO: 2015-0.272.291-3',\n",
              "  'CONTRAÃ‡ÃƒO DE NATUREZA ARTÃ\\uf18dSTICA',\n",
              "  'PROCESSO: 2015-0.260.904-1',\n",
              "  'NOTIFICAÃ‡ÃƒO'],\n",
              " ['2013-0.009.972-7',\n",
              "  '2015-0.272.291-3',\n",
              "  '2015-0.260.904-1',\n",
              "  '2015-0.338.403-5',\n",
              "  '2015-0.338.403-5'],\n",
              " ['14.100,00',\n",
              "  '30.560,00',\n",
              "  '55.000,00',\n",
              "  '13.750,00',\n",
              "  '13.750,00',\n",
              "  '13.750,00',\n",
              "  '13.750,00',\n",
              "  '1,94'])"
            ]
          },
          "metadata": {},
          "execution_count": 69
        }
      ]
    }
  ]
}