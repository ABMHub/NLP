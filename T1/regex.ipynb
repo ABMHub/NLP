{
  "cells": [
    {
      "cell_type": "code",
      "execution_count": 31,
      "metadata": {
        "id": "uVq9aKtgbksB"
      },
      "outputs": [],
      "source": [
        "import re"
      ]
    },
    {
      "cell_type": "code",
      "execution_count": 32,
      "metadata": {
        "id": "Dgeb2Q-kgNum"
      },
      "outputs": [],
      "source": [
        "wrd1 = '''((TITULO))Extrato de Termo de Aditamento\n",
        "((TEXTO))((NG))2013-0.009.972-7((CL)). OBJETO: ProrrogaÃ§Ã£o Contratual da Escola de DanÃ§a de SÃ£o Paulo, referente aos meses de janeiro a marÃ§o de 2016. CONTRATANTE: ((NG))FTMSP/EDSP((CL)) e CONTRATADO: Sandra LÃºcia Gomes; FunÃ§Ã£o: Oficinas PrÃ¡ticas de DanÃ§a; Valor Total R$ 14.100,00. Termo de Aditamento nÂº 021/2016.\n",
        "\n",
        "'''"
      ]
    },
    {
      "cell_type": "code",
      "execution_count": 33,
      "metadata": {
        "id": "ya5TmXd-kyCB"
      },
      "outputs": [],
      "source": [
        "wrd2 = '''((TITULO))PROCESSO: 2015-0.272.291-3\n",
        "((TEXTO))((NG))DIVISÃƒO ADMINISTRATIVA, SMS-1 / CONTRATOS((CL))\n",
        "EXTRATO DO TERMO DE CONTRATO NÂº 004/2016-SMS-1/CONTRATOS\n",
        "CONTRATANTE: Secretaria Municipal da SaÃºde da Prefeitura do MunicÃ­pio de SÃ£o Paulo\n",
        "CONTRATADA: MARIA REGINA GUIMARÃƒES SILVA, CPF nÂº 735.066.726-49\n",
        "OBJETO DO CONTRATO: PrestaÃ§Ã£o de serviÃ§os de docÃªncia aos Agentes de Controle de Zoonoses no Curso â€œTÃ©cnico em VigilÃ¢ncia em SaÃºde - TVSâ€ na Escola Municipal de SaÃºde Regional Leste I.\n",
        "DOTAÃ‡ÃƒO: 84.10.10.128.3011.2180.3.3.90.36.00.02\n",
        "DATA DE ASSINATURA: 18/01/2016\n",
        "VIGÃŠNCIA: 24 (vinte e quatro) meses\n",
        "VALOR DO CONTRATO: R$ 30.560,00'''"
      ]
    },
    {
      "cell_type": "code",
      "execution_count": 34,
      "metadata": {
        "id": "RaIa83pkmeyG"
      },
      "outputs": [],
      "source": [
        "wrd3 = '''((TITULO))CONTRAÃ‡ÃƒO DE NATUREZA ARTÃSTICA\n",
        "\n",
        "((TEXTO))((NG)) Publicado por omissÃ£o no D.O.C de 23.01.2016 (CL))\n",
        "\n",
        "((NG)) Processo SEI 6025.2016/0000078-1((CL))\n",
        "\n",
        "Ã€ vista dos elementos constantes do presente, em especial o Parecer da ComissÃ£o de Atividades ArtÃ­sticas e Culturais, na competÃªncia a mim delegada pela Portaria nÂº 19/2006 â€“ SMC.G, ((NG))AUTORIZO,((CL)) com fundamento no artigo 25, inciso III, da Lei Federal nÂº 8.666/1993 e alteraÃ§Ãµes posteriores, artigo 1Âº da Lei Municipal 13.278/2002, nos termos dos artigos 16 e 17 do Decreto Municipal nÂº 44.279/2003, a contrataÃ§Ã£o dos serviÃ§os de natureza artÃ­stica nas condiÃ§Ãµes abaixo estipuladas, observada a legislaÃ§Ã£o vigente e demais cautelas legais:\n",
        "\n",
        "\n",
        "\n",
        "((NG))CONTRATADO: LUIZ GONZAGA KEDI AYRÃƒO((CL)) (CPF nÂº 071.133.582-68), nome artÃ­stico â€œLUIZ AYRÃƒOâ€, conforme a DeclaraÃ§Ã£o de Exclusividade, por intermÃ©dio de((NG)) NORMA PRODUCOES EIRELLI EPP((CL)), inscrita no CNPJ sob o nÂº 14.560.602/0001-08.\n",
        "\n",
        "\n",
        "\n",
        "((NG))OBJETO:((CL)) EspetÃ¡culo Musical / Show - Luiz AyrÃ£o - Show de Sucessos.\n",
        "\n",
        "\n",
        "\n",
        "LOCAL: TEATRO LEOPOLDO FRÃ“ES\n",
        "\n",
        "Data: 23/01/2016 â€“ SÃ¡bado Ã s 20 horas\n",
        "\n",
        "LOCAL: TEATRO JOÃƒO CAETANO\n",
        "\n",
        "Data: 28/02/2016 â€“ Domingo Ã s 19 horas\n",
        "\n",
        "LOCAL: TEATRO FLÃVIO IMPÃ‰RIO\n",
        "\n",
        "Data: 22/04/2016 â€“ Sexta-feira Ã s 20 horas.\n",
        "\n",
        "LOCAL: TEATRO ALFREDO MESQUITA\n",
        "\n",
        "Data: 21/05/2016 â€“ Domingo Ã s 21 horas\n",
        "\n",
        "\n",
        "\n",
        "((NG))Tempo Aproximado de DuraÃ§Ã£o do EspetÃ¡culo:((CL)) 90 minutos por apresentaÃ§Ã£o.\n",
        "\n",
        "\n",
        "\n",
        "((NG))VALOR GLOBAL: R$ 55.000,00 (cinquenta e cinco mil reais), sendo: 1Âª parcela de R$ 13.750,00 - liberÃ¡vel a partir de 23/02/2016. 2Âª parcela de R$ 13.750,00 - liberÃ¡vel a partir de 28/03/2016. 3Âª parcela de R$ 13.750,00 - liberÃ¡vel a partir de 22/05/2016. 4Âª parcela de R$ 13.750,00 - liberÃ¡vel a partir de 21/06/2016. O pagamento de cada parcela se darÃ¡ em 15 (quinze) dias Ãºteis apÃ³s a data de confirmaÃ§Ã£o da correta execuÃ§Ã£o dos serviÃ§os.\n",
        "\n",
        "\n",
        "\n",
        "((NG))DOTAÃ‡ÃƒO ORÃ‡AMENTÃRIA:((CL)) 25.10 13.392.3001.6.354 3.3.90.39.00 00, conforme anotaÃ§Ã£o de reserva de recursos.\n",
        "\n",
        "\n",
        "\n",
        " Nos termos do art. 6Âº do Decreto Municipal nÂº 54.873/2014, designo como fiscal desta contrataÃ§Ã£o artÃ­stica a servidora, Katia D'Agnolo Bocchi, RF 523.671 e, como substituta, Ana Luiza Noblat de Aguiar, RF 814.298.'''"
      ]
    },
    {
      "cell_type": "code",
      "execution_count": 35,
      "metadata": {
        "id": "_h36WmU3m4uX"
      },
      "outputs": [],
      "source": [
        "wrd4 = '''((TITULO))PROCESSO: 2015-0.260.904-1\n",
        "((TEXTO))((NG))DIVISÃƒO TÃ‰CNICA DE SUPRIMENTOS, SMS-3\n",
        "SETOR DE ATAS DE REGISTRO DE PREÃ‡OS\n",
        "EXTRATO\n",
        "ATA DE REGISTRO DE PREÃ‡O NÂº 017/2016-SMS.G((CL))\n",
        "PREGÃƒO ELETRÃ”NICO NÂº 325/2015-SMS.G\n",
        "ORGÃƒO GESTOR: SECRETARIA MUNICIPAL DA SAÃšDE\n",
        "DETENTORA: SDK COMÃ‰RCIO DE CORRELATOS DA SAÃšDE LTDA.- EPP\n",
        "CNPJ: 13.841.510/0001-33\n",
        "OBJETO: HEMOSTÃTICO\n",
        "VIGÃŠNCIA: 20/01/2016 A 20/01/2017\n",
        "\n",
        "Item 03 â€“ HEMOSTÃTICO LOCAL\n",
        "R$ 1,94/blister\n",
        "Marca: Hemospon\n",
        "Fabricante: Technew\n",
        "Embalagem/ApresentaÃ§Ã£o: Caixa com 01 blister com 10 unidades\n",
        "Registro no M.S.: 80015520039\n",
        "ProcedÃªncia: Nacional\n",
        "CÃ³digo Supri: 11.065.007.009.1642-8\n",
        "\n",
        "Consumo MÃ©dio Mensal Estimado: 1.054 blisters\n",
        "Consumo MÃ©dio Anual Estimado: 12.648 blisters'''"
      ]
    },
    {
      "cell_type": "code",
      "execution_count": 36,
      "metadata": {
        "id": "DE9rOhrznGZP"
      },
      "outputs": [],
      "source": [
        "wrd5 = '''((TITULO))NOTIFICAÃ‡ÃƒO\n",
        "((TEXTO))((NG))PROCESSO NÂº 2015-0.338.403-5((CL))\n",
        "I - NotificaÃ§Ã£o para apresentaÃ§Ã£o de Defesa PrÃ©via, no prazo de 05 (cinco) dias Ãºteis, Ã  empresa UNIT INDÃšSTRIA, COMÃ‰RCIO, IMPORTAÃ‡ÃƒO E EXPORTAÃ‡ÃƒO LTDA., inscrita no CNPJ sob o nÂº 66.969.262/0001-77, que se encontra sujeita a aplicaÃ§Ã£o de penalidade por irregularidade no fornecimento em consignaÃ§Ã£o de materiais para videolaparoscopia com comodato de equipamentos, materiais e instrumentais a serem utilizados nas unidades hospitalares pertencentes Ã  Autarquia Hospitalar Municipal, decorrente do Termo de Contrato nÂº 243/2014, posto que os serviÃ§os relativos aos Termos de UtilizaÃ§Ã£o nÂº 1482, Data da cirurgia: 08/10/2015 e Nota Fiscal nÂº 6043, prestados no Hospital Municipal ProfÂº. Dr. AlÃ­pio Correa Netto, foram considerados NÃƒO A CONTENTO.\n",
        "II - Cumpre salientar que a fiscalizaÃ§Ã£o exercida verificou o descumprimento de obrigaÃ§Ãµes contratuais, estando a empresa sujeta Ã  penalidade prevista na ClÃ¡usula Sexta, item 6.2, subitem 6.2.5, isto Ã©, multa de 15% (quinze por cento) sobre a parcela inexecutada, no caso de inexecuÃ§Ã£o parcial, no cometimento de qualquer outra irregularidade no cumprimento da obrigaÃ§Ã£o, ou nas hipÃ³teses de atrasos superiores a 20 (vinte) dias. \n",
        "III - Para efeito de apresentaÃ§Ã£o de defesa prÃ©via utilizar a referÃªncia Processo Administrativo nÂº 2015-0.338.403-5, efetuando o protocolo na Rua Frei Caneca, 1398/ 1402, TÃ©rreo, ConsolaÃ§Ã£o, SÃ£o Paulo/SP. '''"
      ]
    },
    {
      "cell_type": "code",
      "execution_count": 37,
      "metadata": {
        "colab": {
          "base_uri": "https://localhost:8080/"
        },
        "id": "upQ7NvMqnb5x",
        "outputId": "71a9dd81-bd00-4c06-d213-1aace1a4ec67"
      },
      "outputs": [
        {
          "data": {
            "text/plain": [
              "([['Extrato de Termo de Aditamento'],\n",
              "  ['PROCESSO: 2015-0.272.291-3'],\n",
              "  ['CONTRAÃ‡ÃƒO DE NATUREZA ARTÃ\\uf18dSTICA'],\n",
              "  ['PROCESSO: 2015-0.260.904-1'],\n",
              "  ['NOTIFICAÃ‡ÃƒO']],\n",
              " [['2013-0.009.972-7'],\n",
              "  ['2015-0.272.291-3'],\n",
              "  [],\n",
              "  ['2015-0.260.904-1'],\n",
              "  ['2015-0.338.403-5', '2015-0.338.403-5']],\n",
              " [['14.100,00'],\n",
              "  ['30.560,00'],\n",
              "  ['55.000,00', '13.750,00', '13.750,00', '13.750,00', '13.750,00'],\n",
              "  ['1,94'],\n",
              "  []])"
            ]
          },
          "execution_count": 37,
          "metadata": {},
          "output_type": "execute_result"
        }
      ],
      "source": [
        "tituloRegex = r\"\\(\\(TITULO\\)\\)(.+)\\n\"\n",
        "codigoRegex = r\"(\\d+\\-\\d+\\.\\d+\\.\\d+\\-\\d+)\"\n",
        "dinheiroRegex = r\"R\\$ ?([0-9|.]+,\\d\\d)\"\n",
        "\n",
        "textao_list = [wrd1, wrd2, wrd3, wrd4, wrd5]\n",
        "\n",
        "titulo = [re.findall(tituloRegex, wrd) for wrd in textao_list]\n",
        "codigo = [re.findall(codigoRegex, wrd) for wrd in textao_list] #2015-0.260.904-1\n",
        "dinheiro = [re.findall(dinheiroRegex, wrd) for wrd in textao_list]\n",
        "titulo, codigo, dinheiro"
      ]
    },
    {
      "cell_type": "code",
      "execution_count": 38,
      "metadata": {
        "colab": {
          "base_uri": "https://localhost:8080/",
          "height": 206
        },
        "id": "8Dnwr5hKqOFa",
        "outputId": "1aeb58a0-f96f-46e0-c1f8-8a6e63ae6f79"
      },
      "outputs": [
        {
          "data": {
            "text/html": [
              "<div>\n",
              "<style scoped>\n",
              "    .dataframe tbody tr th:only-of-type {\n",
              "        vertical-align: middle;\n",
              "    }\n",
              "\n",
              "    .dataframe tbody tr th {\n",
              "        vertical-align: top;\n",
              "    }\n",
              "\n",
              "    .dataframe thead th {\n",
              "        text-align: right;\n",
              "    }\n",
              "</style>\n",
              "<table border=\"1\" class=\"dataframe\">\n",
              "  <thead>\n",
              "    <tr style=\"text-align: right;\">\n",
              "      <th></th>\n",
              "      <th>titulo</th>\n",
              "      <th>codigo</th>\n",
              "      <th>dinheiro</th>\n",
              "    </tr>\n",
              "  </thead>\n",
              "  <tbody>\n",
              "    <tr>\n",
              "      <th>0</th>\n",
              "      <td>[Extrato de Termo de Aditamento]</td>\n",
              "      <td>2013-0.009.972-7</td>\n",
              "      <td>14.100,00</td>\n",
              "    </tr>\n",
              "    <tr>\n",
              "      <th>1</th>\n",
              "      <td>[PROCESSO: 2015-0.272.291-3]</td>\n",
              "      <td>2015-0.272.291-3</td>\n",
              "      <td>30.560,00</td>\n",
              "    </tr>\n",
              "    <tr>\n",
              "      <th>2</th>\n",
              "      <td>[CONTRAÃ‡ÃƒO DE NATUREZA ARTÃSTICA]</td>\n",
              "      <td>NaN</td>\n",
              "      <td>55.000,00</td>\n",
              "    </tr>\n",
              "    <tr>\n",
              "      <th>3</th>\n",
              "      <td>[PROCESSO: 2015-0.260.904-1]</td>\n",
              "      <td>2015-0.260.904-1</td>\n",
              "      <td>1,94</td>\n",
              "    </tr>\n",
              "    <tr>\n",
              "      <th>4</th>\n",
              "      <td>[NOTIFICAÃ‡ÃƒO]</td>\n",
              "      <td>2015-0.338.403-5</td>\n",
              "      <td>NaN</td>\n",
              "    </tr>\n",
              "  </tbody>\n",
              "</table>\n",
              "</div>"
            ],
            "text/plain": [
              "                                 titulo            codigo   dinheiro\n",
              "0      [Extrato de Termo de Aditamento]  2013-0.009.972-7  14.100,00\n",
              "1          [PROCESSO: 2015-0.272.291-3]  2015-0.272.291-3  30.560,00\n",
              "2  [CONTRAÃ‡ÃƒO DE NATUREZA ARTÃSTICA]               NaN  55.000,00\n",
              "3          [PROCESSO: 2015-0.260.904-1]  2015-0.260.904-1       1,94\n",
              "4                       [NOTIFICAÃ‡ÃƒO]  2015-0.338.403-5        NaN"
            ]
          },
          "execution_count": 38,
          "metadata": {},
          "output_type": "execute_result"
        }
      ],
      "source": [
        "import pandas as pd\n",
        "import numpy as np\n",
        "dinheiro = pd.Series([None if len(st) == 0 else st[0] for st in dinheiro]).fillna(value=np.nan)\n",
        "codigo = pd.Series([None if len(st) == 0 else st[0] for st in codigo]).fillna(value=np.nan)\n",
        "a = {\"titulo\":titulo,\n",
        "     \"codigo\":codigo,\n",
        "     \"dinheiro\":dinheiro}\n",
        "pd.DataFrame(a)"
      ]
    }
  ],
  "metadata": {
    "colab": {
      "collapsed_sections": [],
      "name": "Untitled0.ipynb",
      "provenance": []
    },
    "kernelspec": {
      "display_name": "Python 3.9.13 64-bit",
      "language": "python",
      "name": "python3"
    },
    "language_info": {
      "codemirror_mode": {
        "name": "ipython",
        "version": 3
      },
      "file_extension": ".py",
      "mimetype": "text/x-python",
      "name": "python",
      "nbconvert_exporter": "python",
      "pygments_lexer": "ipython3",
      "version": "3.9.13"
    },
    "vscode": {
      "interpreter": {
        "hash": "3c3fdd1ba6fa6149e0a55b9d95e637df8fd62d3a04e8e673bb353b444f545e4d"
      }
    }
  },
  "nbformat": 4,
  "nbformat_minor": 0
}
